{
 "cells": [
  {
   "cell_type": "markdown",
   "id": "f9f56059-0c65-4332-a2b1-686b2599bdbe",
   "metadata": {},
   "source": [
    "# Script to format the .sql file containing data to be MySQL friendly"
   ]
  },
  {
   "cell_type": "markdown",
   "id": "a6c5fedc-4b8b-4ce0-ab61-2295e81f3dab",
   "metadata": {},
   "source": [
    "## Read the content of the file containing the database data"
   ]
  },
  {
   "cell_type": "code",
   "execution_count": 1,
   "id": "1814e9d2-1cab-46b4-9e5a-0cfc850b941a",
   "metadata": {},
   "outputs": [],
   "source": [
    "with open('../original_data/raw_data_from_MS_SQL_Server.sql', 'r') as file:\n",
    "    content = file.readlines()"
   ]
  },
  {
   "cell_type": "code",
   "execution_count": 2,
   "id": "7f43c18b-d7fc-42f0-899c-b9c9e51acc41",
   "metadata": {
    "scrolled": true
   },
   "outputs": [
    {
     "data": {
      "text/plain": [
       "['USE [Sale_2019]\\n',\n",
       " 'GO\\n',\n",
       " \"INSERT [dbo].[Sales_April_2019] ([Order_ID], [Product], [Quantity_Ordered], [Price_Each], [Order_Date], [Purchase_Address]) VALUES (176558, N'USB-C Charging Cable', 2, 11.949999809265137, CAST(N'2019-04-19T08:46:00.0000000' AS DateTime2), N'917 1st St, Dallas, TX 75001')\\n\",\n",
       " 'GO\\n',\n",
       " 'INSERT [dbo].[Sales_April_2019] ([Order_ID], [Product], [Quantity_Ordered], [Price_Each], [Order_Date], [Purchase_Address]) VALUES (NULL, NULL, NULL, NULL, NULL, NULL)\\n',\n",
       " 'GO\\n',\n",
       " \"INSERT [dbo].[Sales_April_2019] ([Order_ID], [Product], [Quantity_Ordered], [Price_Each], [Order_Date], [Purchase_Address]) VALUES (176559, N'Bose SoundSport Headphones', 1, 99.989997863769531, CAST(N'2007-04-19T22:30:00.0000000' AS DateTime2), N'682 Chestnut St, Boston, MA 02215')\\n\",\n",
       " 'GO\\n',\n",
       " \"INSERT [dbo].[Sales_April_2019] ([Order_ID], [Product], [Quantity_Ordered], [Price_Each], [Order_Date], [Purchase_Address]) VALUES (176560, N'Google Phone', 1, 600, CAST(N'2012-04-19T14:38:00.0000000' AS DateTime2), N'669 Spruce St, Los Angeles, CA 90001')\\n\",\n",
       " 'GO\\n']"
      ]
     },
     "execution_count": 2,
     "metadata": {},
     "output_type": "execute_result"
    }
   ],
   "source": [
    "content[:10]"
   ]
  },
  {
   "cell_type": "markdown",
   "id": "65568ff2-7b49-450b-a17a-ce0bd973abc4",
   "metadata": {},
   "source": [
    "## Some modifications to the content of the file"
   ]
  },
  {
   "cell_type": "markdown",
   "id": "c409d15c-99ad-4dfb-989e-3fee312e5dad",
   "metadata": {},
   "source": [
    "### Add a comma to every line"
   ]
  },
  {
   "cell_type": "code",
   "execution_count": 3,
   "id": "2cc6d4e1-2298-4355-aa20-56303de054bf",
   "metadata": {},
   "outputs": [],
   "source": [
    "content = [i.replace('\\n', ',\\n') for i in content]"
   ]
  },
  {
   "cell_type": "markdown",
   "id": "539e0c0d-47fd-4a99-94b2-b0219bc27990",
   "metadata": {},
   "source": [
    "### Remove the square brackets:"
   ]
  },
  {
   "cell_type": "code",
   "execution_count": 4,
   "id": "dc8fa9a8-b893-4bc8-81bd-71a431eb318a",
   "metadata": {},
   "outputs": [],
   "source": [
    "content = [i.replace('[', '').replace(']', '') for i in content]"
   ]
  },
  {
   "cell_type": "markdown",
   "id": "ab30667c-7d45-48eb-ae2c-992cda172573",
   "metadata": {},
   "source": [
    "### Remove the `GO` line used in T-SQL"
   ]
  },
  {
   "cell_type": "code",
   "execution_count": 5,
   "id": "d8ce3d2e-2c0c-4f4c-9db7-a3a7d4c63a17",
   "metadata": {},
   "outputs": [],
   "source": [
    "content = [i for i in content if i != 'GO,\\n']"
   ]
  },
  {
   "cell_type": "markdown",
   "id": "7170aa32-0497-4f28-b65e-b58c0c2c19c1",
   "metadata": {},
   "source": [
    "### Remove the string: `CAST(N'timestamp' AS DateTime2), N` by just the `timestamp` value. Also remove `N'` from varchar values."
   ]
  },
  {
   "cell_type": "code",
   "execution_count": 6,
   "id": "359aacbc-b3ea-4230-820d-912b53cb1d1c",
   "metadata": {},
   "outputs": [],
   "source": [
    "content = [i.replace('CAST(N', '').replace(' AS DateTime2), N', ', ').replace(\"N'\", \"'\") for i in content]"
   ]
  },
  {
   "cell_type": "markdown",
   "id": "e461c6cb-f996-4d91-888e-ea81ec847a5c",
   "metadata": {},
   "source": [
    "### Remove the schema name prefix and table names:"
   ]
  },
  {
   "cell_type": "code",
   "execution_count": 7,
   "id": "193a4445-5c05-4b8e-b322-999f0b08b473",
   "metadata": {},
   "outputs": [],
   "source": [
    "months = ['january', 'february', 'march', 'april', 'may', 'june', 'july', 'august', 'september', 'october', 'november', 'december']\n",
    "table_names = [f'dbo.Sales_{i.title()}_2019' for i in months]"
   ]
  },
  {
   "cell_type": "code",
   "execution_count": 8,
   "id": "36d6b961-ae9b-4568-89e2-62c301332a3d",
   "metadata": {},
   "outputs": [],
   "source": [
    "# February has a slightly different table name:\n",
    "table_names[1] = 'dbo.sales_feb_2019'"
   ]
  },
  {
   "cell_type": "code",
   "execution_count": 9,
   "id": "14037467-591b-4c3e-8e73-20433431e4d9",
   "metadata": {},
   "outputs": [],
   "source": [
    "for table in table_names:\n",
    "    content = [i.replace(table, '') for i in content]"
   ]
  },
  {
   "cell_type": "markdown",
   "id": "f3821e1a-519c-441e-a0c1-f09b9d7c551b",
   "metadata": {},
   "source": [
    "Many records from February sales have null Order_ID values. They have been added to the data file as empty string (`''`). They must be replaced by `null`."
   ]
  },
  {
   "cell_type": "code",
   "execution_count": 23,
   "id": "fc8f9e4d-0a55-4ce0-9202-2b4da76142d2",
   "metadata": {
    "scrolled": true
   },
   "outputs": [],
   "source": [
    "for index, line in enumerate(content):\n",
    "    if line.startswith(\"('',\"):\n",
    "        content[index] = line.replace(\"(''\", \"(NULL\")"
   ]
  },
  {
   "cell_type": "markdown",
   "id": "f20aecb2-9a20-4b22-9b79-922def97e4a8",
   "metadata": {},
   "source": [
    "### Change first line to: `USE sales2019':"
   ]
  },
  {
   "cell_type": "code",
   "execution_count": 12,
   "id": "f73f5231-c7de-4d29-8d6d-859e5bc7ec00",
   "metadata": {},
   "outputs": [],
   "source": [
    "content[0] = 'USE sales2019 ;\\n'"
   ]
  },
  {
   "cell_type": "markdown",
   "id": "7143ac11-5748-4224-ae53-e205172e5b2c",
   "metadata": {},
   "source": [
    "### Add keyword `INTO` and database name `sales2019` after `INSERT`:"
   ]
  },
  {
   "cell_type": "code",
   "execution_count": 13,
   "id": "d2c8dfa4-0e9d-4f52-a1bd-9f3092efdb52",
   "metadata": {},
   "outputs": [],
   "source": [
    "content[1] = content[1].replace('INSERT ', 'INSERT INTO sales2019')"
   ]
  },
  {
   "cell_type": "markdown",
   "id": "1f94592c-9d4e-48e7-a3ce-ca83517fedf6",
   "metadata": {},
   "source": [
    "### Remove the Insert statement from every line:"
   ]
  },
  {
   "cell_type": "code",
   "execution_count": 14,
   "id": "9f487659-b6ec-4958-9b67-7d082a2c47e3",
   "metadata": {},
   "outputs": [],
   "source": [
    "content[2:] = [i.replace('INSERT  (Order_ID, Product, Quantity_Ordered, Price_Each, Order_Date, Purchase_Address) VALUES ', '') for i in content[2:] ]"
   ]
  },
  {
   "cell_type": "markdown",
   "id": "e7496301-8f6f-475a-bc81-7f189337d36a",
   "metadata": {},
   "source": [
    "### Personally, I like to have lower case column names, so I will replace the names of the columns in the insert statement:"
   ]
  },
  {
   "cell_type": "code",
   "execution_count": 15,
   "id": "91b8b47a-18b3-444a-9c93-5e581db6fe04",
   "metadata": {},
   "outputs": [],
   "source": [
    "lowercase_column_names = 'Order_ID, Product, Quantity_Ordered, Price_Each, Order_Date, Purchase_Address'.lower()\n",
    "content[1] = content[1].replace('Order_ID, Product, Quantity_Ordered, Price_Each, Order_Date, Purchase_Address', lowercase_column_names)"
   ]
  },
  {
   "cell_type": "markdown",
   "id": "3c65612d-a850-4973-ac0a-466cd7e49696",
   "metadata": {},
   "source": [
    "### Finally, add a semicolon to last line:"
   ]
  },
  {
   "cell_type": "code",
   "execution_count": 16,
   "id": "82b1c486-6be8-490d-943e-7b2e324d998f",
   "metadata": {
    "scrolled": true
   },
   "outputs": [],
   "source": [
    "content[-1] = content[-1].replace(',\\n', ';')"
   ]
  },
  {
   "cell_type": "markdown",
   "id": "02294150-6eba-4403-9322-8024cb0f5ca7",
   "metadata": {},
   "source": [
    "## Store the resulting lines in a new processed file"
   ]
  },
  {
   "cell_type": "code",
   "execution_count": 24,
   "id": "2bb59c70-0629-4238-bbd2-7bc5fb5a339a",
   "metadata": {},
   "outputs": [],
   "source": [
    "with open('data_processed.sql', 'w') as file:\n",
    "    file.writelines(content)"
   ]
  }
 ],
 "metadata": {
  "kernelspec": {
   "display_name": "Python 3 (ipykernel)",
   "language": "python",
   "name": "python3"
  },
  "language_info": {
   "codemirror_mode": {
    "name": "ipython",
    "version": 3
   },
   "file_extension": ".py",
   "mimetype": "text/x-python",
   "name": "python",
   "nbconvert_exporter": "python",
   "pygments_lexer": "ipython3",
   "version": "3.11.6"
  }
 },
 "nbformat": 4,
 "nbformat_minor": 5
}
