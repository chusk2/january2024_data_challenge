{
 "cells": [
  {
   "cell_type": "markdown",
   "id": "f453a8e7-7158-4843-b122-e6091bb01c74",
   "metadata": {},
   "source": [
    "# Restore database from .bak file  \n",
    "## Guide elaborated by [danicoder](https://twitter.com/chusk2)"
   ]
  },
  {
   "cell_type": "markdown",
   "id": "95fc3daf-3c0f-47b5-bc3a-eb74041e0b8b",
   "metadata": {},
   "source": [
    "Using the [Microsoft SQL Server Management](https://www.microsoft.com/es-es/sql-server/sql-server-downloads), let's restore the database using the .bak file:"
   ]
  },
  {
   "cell_type": "markdown",
   "id": "5b5f80bd-1b0e-4425-ab12-ea390cead329",
   "metadata": {},
   "source": [
    "### Step 1"
   ]
  },
  {
   "cell_type": "markdown",
   "id": "d458e25e-b951-4653-96a6-f0455a25bef2",
   "metadata": {},
   "source": [
    "![Restore Database](./STEPS2/step1.jpg)"
   ]
  },
  {
   "cell_type": "markdown",
   "id": "e843ed68-afc6-45e9-9a13-dae22f5c8ac9",
   "metadata": {},
   "source": [
    "### Step 2"
   ]
  },
  {
   "cell_type": "markdown",
   "id": "fdfa06e0-ebc2-4b7e-8224-ad14736ead06",
   "metadata": {},
   "source": [
    "Prior to step 2, you HAVE TO place the .bak file into a very specific path:  \n",
    "**C:\\Program Files\\Microsoft SQL Server\\MSSQL16.SQLEXPRESS\\MSSQL\\Backup**"
   ]
  },
  {
   "cell_type": "markdown",
   "id": "475fa471-2c60-448d-81bb-4bff72f8076a",
   "metadata": {},
   "source": [
    "![Restore Database](./STEPS2/step2.jpg)"
   ]
  },
  {
   "cell_type": "markdown",
   "id": "d59344ba-e3a4-47ff-8f69-1dc867219e59",
   "metadata": {},
   "source": [
    "### Step 3"
   ]
  },
  {
   "cell_type": "markdown",
   "id": "5df3b5c5-cfa1-4039-bdf3-12c8c8e9b2e1",
   "metadata": {},
   "source": [
    "In step 3, click on Add button and navigate to the previous path to select Sales_2019.bak file (I renamed the file from Sale_2019.bak to **Sales**_2019.bak) :"
   ]
  },
  {
   "cell_type": "markdown",
   "id": "b5dbbb13-5973-4b5b-8d4e-2d286a925e4a",
   "metadata": {},
   "source": [
    "![Restore Database](./STEPS2/step3.jpg)"
   ]
  },
  {
   "cell_type": "markdown",
   "id": "e4977bff-022b-444c-94ca-0eda952cd2e7",
   "metadata": {},
   "source": [
    "### <a id=\"step4\">Step 4</a>"
   ]
  },
  {
   "cell_type": "markdown",
   "id": "65107aed-5b33-44cd-80fc-403e60d305e6",
   "metadata": {},
   "source": [
    "Now you should have successfully restored the database to be used in Microsoft SQL Server."
   ]
  },
  {
   "cell_type": "markdown",
   "id": "2f07f34d-5603-4c12-a95a-79cbb1a9a906",
   "metadata": {},
   "source": [
    "Since I wanted to migrate it to MySQL, I additionally followed the steps below:  \n",
    "1. Right click on the database name and Selected *Tasks --> Generate Scripts...*"
   ]
  },
  {
   "cell_type": "markdown",
   "id": "06cc41d1-1550-4296-acd9-4957908b70a5",
   "metadata": {},
   "source": [
    "![Restore Database](./STEPS2/step4.jpg)"
   ]
  },
  {
   "cell_type": "markdown",
   "id": "7c76eff7-9a23-4a46-b876-b5fe5fc9b80d",
   "metadata": {},
   "source": [
    "### Step 5"
   ]
  },
  {
   "cell_type": "markdown",
   "id": "a8f4d256-8d89-42b8-ae4b-ff89d791c840",
   "metadata": {},
   "source": [
    "![Restore Database](./STEPS2/step5.jpg)"
   ]
  },
  {
   "cell_type": "markdown",
   "id": "06eef150-99c0-45f6-a601-d1be303baec0",
   "metadata": {},
   "source": [
    "### Step 6"
   ]
  },
  {
   "cell_type": "markdown",
   "id": "a23b1a96-c063-45ce-a03b-3220e9cda867",
   "metadata": {},
   "source": [
    "![Restore Database](./STEPS2/step6.jpg)"
   ]
  },
  {
   "cell_type": "markdown",
   "id": "6b55f9e3-53ef-4989-a9d6-df5262f96699",
   "metadata": {},
   "source": [
    "### Step 7"
   ]
  },
  {
   "cell_type": "markdown",
   "id": "457c1e2e-ba40-45d1-86f6-97685ac550a2",
   "metadata": {},
   "source": [
    "Click on **Advanced** button so I can fine tune the resulting script"
   ]
  },
  {
   "cell_type": "markdown",
   "id": "ff1fee9f-77b5-4c69-80e0-e8caa349bda0",
   "metadata": {},
   "source": [
    "![Restore Database](./STEPS2/step7.jpg)"
   ]
  },
  {
   "cell_type": "markdown",
   "id": "c87e05e7-2ce0-466a-ae39-91eb0892f6c6",
   "metadata": {},
   "source": [
    "### <a id='step8'>Step 8<a/>"
   ]
  },
  {
   "cell_type": "markdown",
   "id": "85e9d5b5-e7bb-4632-b752-685a6c310700",
   "metadata": {},
   "source": [
    "Firstly, I want to generate a SQL script to create the tables and the schemas of the database, so I select **Schema only**"
   ]
  },
  {
   "cell_type": "markdown",
   "id": "91239b4b-3931-4037-a9dd-4f9baac04e8b",
   "metadata": {},
   "source": [
    "![Restore Database](./STEPS2/step8.jpg)"
   ]
  },
  {
   "cell_type": "markdown",
   "id": "cce622ea-dae9-40f4-b43c-f07bd836f3da",
   "metadata": {},
   "source": [
    "### Step 9"
   ]
  },
  {
   "cell_type": "markdown",
   "id": "30d2dfed-1650-415a-9dc6-d5cb09782cbe",
   "metadata": {},
   "source": [
    "I will copy the content of the script into a file called **database creation T-SQL.sql**. Microsoft SQL Server uses a derivative from SQL. I want to translate this T-SQL specific script into MySQL compatible one."
   ]
  },
  {
   "cell_type": "markdown",
   "id": "62c541d4-44d6-48bc-9111-e6fbbd78008d",
   "metadata": {},
   "source": [
    "![Restore Database](./STEPS2/step9.jpg)"
   ]
  },
  {
   "cell_type": "markdown",
   "id": "c968ff59-a96e-46e8-bda1-090100a75e49",
   "metadata": {},
   "source": [
    "### Step 10"
   ]
  },
  {
   "cell_type": "markdown",
   "id": "235bceb2-7dc6-4643-a1ca-358d9b3ec94b",
   "metadata": {},
   "source": [
    "Making use of the website [sqlines.com](https://www.sqlines.com/online), I will convert the T-SQL script into a MYSQL script."
   ]
  },
  {
   "cell_type": "markdown",
   "id": "5e17a3c9-ee3b-4759-9f1c-7464740a3ff0",
   "metadata": {},
   "source": [
    "![Restore Database](./STEPS2/step10.jpg)"
   ]
  },
  {
   "cell_type": "markdown",
   "id": "6d485f7f-48c6-4ed5-bced-f6dc70249a65",
   "metadata": {},
   "source": [
    "## Export the data from the database into a .sql file"
   ]
  },
  {
   "cell_type": "markdown",
   "id": "2b99fffc-9867-4418-9ded-39a52d03e40a",
   "metadata": {},
   "source": [
    "To get the data that were introduced in the database, follow from [Step 4](#step4) to [Step 8](#step8). In Step 8, select **Data Only**."
   ]
  }
 ],
 "metadata": {
  "kernelspec": {
   "display_name": "Python 3 (ipykernel)",
   "language": "python",
   "name": "python3"
  },
  "language_info": {
   "codemirror_mode": {
    "name": "ipython",
    "version": 3
   },
   "file_extension": ".py",
   "mimetype": "text/x-python",
   "name": "python",
   "nbconvert_exporter": "python",
   "pygments_lexer": "ipython3",
   "version": "3.11.6"
  }
 },
 "nbformat": 4,
 "nbformat_minor": 5
}
