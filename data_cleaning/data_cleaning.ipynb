{
 "cells": [
  {
   "cell_type": "markdown",
   "id": "63340c08-0ba9-4509-8dcc-5d9b7e6a6c67",
   "metadata": {},
   "source": [
    "# Dataset Cleaning"
   ]
  },
  {
   "cell_type": "markdown",
   "id": "ae67006a-af64-4b68-a54c-cb4a1e5ed521",
   "metadata": {},
   "source": [
    "## Import data"
   ]
  },
  {
   "cell_type": "code",
   "execution_count": 1,
   "id": "62ef516c-a01f-47e9-b8e5-7be162164fd5",
   "metadata": {},
   "outputs": [],
   "source": [
    "import pandas as pd\n",
    "import numpy as np"
   ]
  },
  {
   "cell_type": "code",
   "execution_count": 2,
   "id": "d5648eeb-da61-4d9f-a54f-feac8b0cb8b1",
   "metadata": {},
   "outputs": [],
   "source": [
    "df = pd.read_csv('../original_data/dataset.csv', low_memory=False)"
   ]
  },
  {
   "cell_type": "code",
   "execution_count": 3,
   "id": "d6013549-c064-486b-9364-f5289e3a8a8b",
   "metadata": {},
   "outputs": [
    {
     "data": {
      "text/html": [
       "<div>\n",
       "<style scoped>\n",
       "    .dataframe tbody tr th:only-of-type {\n",
       "        vertical-align: middle;\n",
       "    }\n",
       "\n",
       "    .dataframe tbody tr th {\n",
       "        vertical-align: top;\n",
       "    }\n",
       "\n",
       "    .dataframe thead th {\n",
       "        text-align: right;\n",
       "    }\n",
       "</style>\n",
       "<table border=\"1\" class=\"dataframe\">\n",
       "  <thead>\n",
       "    <tr style=\"text-align: right;\">\n",
       "      <th></th>\n",
       "      <th>Order_ID</th>\n",
       "      <th>Product</th>\n",
       "      <th>Quantity_Ordered</th>\n",
       "      <th>Price_Each</th>\n",
       "      <th>Order_Date</th>\n",
       "      <th>Purchase_Address</th>\n",
       "    </tr>\n",
       "  </thead>\n",
       "  <tbody>\n",
       "    <tr>\n",
       "      <th>0</th>\n",
       "      <td>NaN</td>\n",
       "      <td>NaN</td>\n",
       "      <td>NaN</td>\n",
       "      <td>NaN</td>\n",
       "      <td>NaN</td>\n",
       "      <td>NaN</td>\n",
       "    </tr>\n",
       "    <tr>\n",
       "      <th>1</th>\n",
       "      <td>NaN</td>\n",
       "      <td>Product</td>\n",
       "      <td>NaN</td>\n",
       "      <td>NaN</td>\n",
       "      <td>NaN</td>\n",
       "      <td>Purchase Address</td>\n",
       "    </tr>\n",
       "    <tr>\n",
       "      <th>2</th>\n",
       "      <td>0.0</td>\n",
       "      <td>NaN</td>\n",
       "      <td>NaN</td>\n",
       "      <td>NaN</td>\n",
       "      <td>NaN</td>\n",
       "      <td>NaN</td>\n",
       "    </tr>\n",
       "    <tr>\n",
       "      <th>3</th>\n",
       "      <td>0.0</td>\n",
       "      <td>20in Monitor</td>\n",
       "      <td>1.0</td>\n",
       "      <td>109,98999786376953</td>\n",
       "      <td>2001-02-19 11:31:00.0000000</td>\n",
       "      <td>80 2nd St, Los Angeles, CA 90001</td>\n",
       "    </tr>\n",
       "    <tr>\n",
       "      <th>4</th>\n",
       "      <td>0.0</td>\n",
       "      <td>20in Monitor</td>\n",
       "      <td>1.0</td>\n",
       "      <td>109,98999786376953</td>\n",
       "      <td>2001-02-19 11:46:00.0000000</td>\n",
       "      <td>420 Washington St, Boston, MA 02215</td>\n",
       "    </tr>\n",
       "  </tbody>\n",
       "</table>\n",
       "</div>"
      ],
      "text/plain": [
       "   Order_ID       Product  Quantity_Ordered          Price_Each  \\\n",
       "0       NaN           NaN               NaN                 NaN   \n",
       "1       NaN       Product               NaN                 NaN   \n",
       "2       0.0           NaN               NaN                 NaN   \n",
       "3       0.0  20in Monitor               1.0  109,98999786376953   \n",
       "4       0.0  20in Monitor               1.0  109,98999786376953   \n",
       "\n",
       "                    Order_Date                     Purchase_Address  \n",
       "0                          NaN                                  NaN  \n",
       "1                          NaN                     Purchase Address  \n",
       "2                          NaN                                  NaN  \n",
       "3  2001-02-19 11:31:00.0000000     80 2nd St, Los Angeles, CA 90001  \n",
       "4  2001-02-19 11:46:00.0000000  420 Washington St, Boston, MA 02215  "
      ]
     },
     "execution_count": 3,
     "metadata": {},
     "output_type": "execute_result"
    }
   ],
   "source": [
    "df.head()"
   ]
  },
  {
   "cell_type": "markdown",
   "id": "8e8e177b-e257-4c5b-a0cd-40abbb01274c",
   "metadata": {},
   "source": [
    "## Rename columns to lower case"
   ]
  },
  {
   "cell_type": "code",
   "execution_count": 4,
   "id": "1c62b3b7-65cb-4ee7-85b5-2bbe2d24aac2",
   "metadata": {},
   "outputs": [],
   "source": [
    "df.columns = [i.lower() for i in df.columns]"
   ]
  },
  {
   "cell_type": "markdown",
   "id": "b364e42b-40fd-4c85-87c2-518c19729cbd",
   "metadata": {},
   "source": [
    "## Check `dtypes`"
   ]
  },
  {
   "cell_type": "code",
   "execution_count": 5,
   "id": "9c7bd422-1f83-4c62-be29-d49508ce0406",
   "metadata": {},
   "outputs": [
    {
     "data": {
      "text/plain": [
       "order_id            float64\n",
       "product              object\n",
       "quantity_ordered    float64\n",
       "price_each           object\n",
       "order_date           object\n",
       "purchase_address     object\n",
       "dtype: object"
      ]
     },
     "execution_count": 5,
     "metadata": {},
     "output_type": "execute_result"
    }
   ],
   "source": [
    "df.dtypes"
   ]
  },
  {
   "cell_type": "markdown",
   "id": "5866704d-7839-475a-aa2d-8d16d9c0ebbb",
   "metadata": {},
   "source": [
    "## Check the different values of each column"
   ]
  },
  {
   "cell_type": "code",
   "execution_count": 6,
   "id": "8893b68a-f001-4575-a13c-3696916e3008",
   "metadata": {},
   "outputs": [
    {
     "name": "stdout",
     "output_type": "stream",
     "text": [
      "Unique values for column order_id: 168930\n",
      "\n",
      "[    nan      0.  15502. ... 319668. 319669. 319670.]\n",
      "\n",
      "Unique values for column product: 21\n",
      "\n",
      "[nan 'Product' '20in Monitor' '27in 4K Gaming Monitor' '27in FHD Monitor'\n",
      " '34in Ultrawide Monitor' 'AA Batteries (4-pack)' 'AAA Batteries (4-pack)'\n",
      " 'Apple Airpods Headphones' 'Bose SoundSport Headphones' 'Flatscreen TV'\n",
      " 'Google Phone' 'iPhone' 'LG Dryer' 'LG Washing Machine'\n",
      " 'Lightning Charging Cable' 'Macbook Pro Laptop' 'ThinkPad Laptop'\n",
      " 'USB-C Charging Cable' 'Vareebadd Phone' 'Wired Headphones']\n",
      "\n",
      "Unique values for column quantity_ordered: 10\n",
      "\n",
      "[nan  1.  2.  3.  4.  5.  6.  7.  9.  8.]\n",
      "\n",
      "Unique values for column price_each: 18\n",
      "\n",
      "[nan '109,98999786376953' '389,989990234375' '149,99000549316406'\n",
      " '379,989990234375' '3,8399999141693115' '2,9900000095367432' '150'\n",
      " '99,989997863769531' '300' '600' '700' '14,949999809265137' '1700'\n",
      " '999,989990234375' '11,949999809265137' '400' '11,989999771118164']\n",
      "\n",
      "Unique values for column order_date: 142396\n",
      "\n",
      "[nan '2001-02-19 11:31:00.0000000' '2001-02-19 11:46:00.0000000' ...\n",
      " '2001-12-19 12:01:00.0000000' '2009-12-19 06:43:00.0000000'\n",
      " '2003-12-19 10:39:00.0000000']\n",
      "\n",
      "Unique values for column purchase_address: 140789\n",
      "\n",
      "[nan 'Purchase Address' '80 2nd St, Los Angeles, CA 90001' ...\n",
      " '273 Wilson St, Seattle, WA 98101' '778 River St, Dallas, TX 75001'\n",
      " '747 Chestnut St, Los Angeles, CA 90001']\n",
      "\n"
     ]
    }
   ],
   "source": [
    "for col in df.columns:\n",
    "    print(f'Unique values for column {col}: {df[col].unique().shape[0]}\\n')\n",
    "    print(df[col].unique(), end='\\n\\n')"
   ]
  },
  {
   "cell_type": "markdown",
   "id": "e2ddf4b1-e7cd-4e48-82dd-d9c28056cd07",
   "metadata": {},
   "source": [
    "## Cleaning and adjusting dtypes"
   ]
  },
  {
   "cell_type": "markdown",
   "id": "1535ee58-40bb-435b-b20e-3e2dff762dd8",
   "metadata": {},
   "source": [
    "Some records have `nan` values from importation. Check them and convert to `NaN`."
   ]
  },
  {
   "cell_type": "code",
   "execution_count": 7,
   "id": "994b094f-7903-4438-968f-ec309e5626e7",
   "metadata": {},
   "outputs": [],
   "source": [
    "df.order_id = df.order_id.replace('nan', np.nan).astype(float)"
   ]
  },
  {
   "cell_type": "code",
   "execution_count": 8,
   "id": "1d96e03a-b140-42df-8eb2-fcea76b01290",
   "metadata": {},
   "outputs": [],
   "source": [
    "df.quantity_ordered = df.quantity_ordered.replace('nan', np.nan).astype(float)"
   ]
  },
  {
   "cell_type": "code",
   "execution_count": 9,
   "id": "108b3d34-c4a7-4a45-9075-259a14e27724",
   "metadata": {},
   "outputs": [],
   "source": [
    "df.price_each = pd.Series( [i.replace(',', '.') if i == i else i for i in df.price_each] ).astype(float)"
   ]
  },
  {
   "cell_type": "markdown",
   "id": "5329d9e0-6cb8-4cc9-9e85-3d7555de6f63",
   "metadata": {},
   "source": [
    "## Check `order_date` values"
   ]
  },
  {
   "cell_type": "code",
   "execution_count": 10,
   "id": "0e2462d8-b69e-4707-b03e-d2a0d965d209",
   "metadata": {},
   "outputs": [
    {
     "data": {
      "text/plain": [
       "0                                 NaN\n",
       "1                                 NaN\n",
       "2                                 NaN\n",
       "3         2001-02-19 11:31:00.0000000\n",
       "4         2001-02-19 11:46:00.0000000\n",
       "                     ...             \n",
       "185685    2011-12-19 20:58:00.0000000\n",
       "185686    2001-12-19 12:01:00.0000000\n",
       "185687    2009-12-19 06:43:00.0000000\n",
       "185688    2003-12-19 10:39:00.0000000\n",
       "185689    2021-12-19 21:45:00.0000000\n",
       "Name: order_date, Length: 185690, dtype: object"
      ]
     },
     "execution_count": 10,
     "metadata": {},
     "output_type": "execute_result"
    }
   ],
   "source": [
    "df.order_date"
   ]
  },
  {
   "cell_type": "markdown",
   "id": "cfd492c4-57a6-4939-8bcf-d44eb19032e5",
   "metadata": {},
   "source": [
    "Dates are in the wrong format. I must remove the `20` in front of every value."
   ]
  },
  {
   "cell_type": "code",
   "execution_count": 11,
   "id": "0cd47d0a-a999-472f-93cf-6d7dc6d853a0",
   "metadata": {},
   "outputs": [],
   "source": [
    "dates = [i[2:] if i == i else i for i in df.order_date ]"
   ]
  },
  {
   "cell_type": "code",
   "execution_count": 12,
   "id": "d2bad9be-4021-4735-b9b6-efb56bc34c44",
   "metadata": {},
   "outputs": [
    {
     "data": {
      "text/plain": [
       "[nan,\n",
       " nan,\n",
       " nan,\n",
       " '01-02-19 11:31:00.0000000',\n",
       " '01-02-19 11:46:00.0000000',\n",
       " '01-02-19 13:39:00.0000000',\n",
       " '01-02-19 14:35:00.0000000',\n",
       " '01-02-19 18:39:00.0000000',\n",
       " '01-02-19 20:08:00.0000000',\n",
       " '01-02-19 20:37:00.0000000']"
      ]
     },
     "execution_count": 12,
     "metadata": {},
     "output_type": "execute_result"
    }
   ],
   "source": [
    "dates[:10]"
   ]
  },
  {
   "cell_type": "markdown",
   "id": "f020af5e-80da-41b0-865a-17c086d33cda",
   "metadata": {},
   "source": [
    "I could have used this format as parameter to `pd.to_datetime()`: '%d-%m-%y %H:%M:%S.%f'. See [reference](https://docs.python.org/3/library/datetime.html#strftime-and-strptime-format-codes).  \n",
    "Using this format leads to getting dates only for April, so in the end, I will let Pandas to infer the dates."
   ]
  },
  {
   "cell_type": "code",
   "execution_count": 13,
   "id": "ad1ff98e-5c28-4e20-9844-22ac35c7f36e",
   "metadata": {},
   "outputs": [
    {
     "data": {
      "text/html": [
       "<div>\n",
       "<style scoped>\n",
       "    .dataframe tbody tr th:only-of-type {\n",
       "        vertical-align: middle;\n",
       "    }\n",
       "\n",
       "    .dataframe tbody tr th {\n",
       "        vertical-align: top;\n",
       "    }\n",
       "\n",
       "    .dataframe thead th {\n",
       "        text-align: right;\n",
       "    }\n",
       "</style>\n",
       "<table border=\"1\" class=\"dataframe\">\n",
       "  <thead>\n",
       "    <tr style=\"text-align: right;\">\n",
       "      <th></th>\n",
       "      <th>order_id</th>\n",
       "      <th>product</th>\n",
       "      <th>quantity_ordered</th>\n",
       "      <th>price_each</th>\n",
       "      <th>order_date</th>\n",
       "      <th>purchase_address</th>\n",
       "    </tr>\n",
       "  </thead>\n",
       "  <tbody>\n",
       "    <tr>\n",
       "      <th>166578</th>\n",
       "      <td>301262.0</td>\n",
       "      <td>27in FHD Monitor</td>\n",
       "      <td>1.0</td>\n",
       "      <td>149.990005</td>\n",
       "      <td>2008-12-19 11:22:00.0000000</td>\n",
       "      <td>829 Johnson St, Los Angeles, CA 90001</td>\n",
       "    </tr>\n",
       "    <tr>\n",
       "      <th>143093</th>\n",
       "      <td>278703.0</td>\n",
       "      <td>27in 4K Gaming Monitor</td>\n",
       "      <td>1.0</td>\n",
       "      <td>389.989990</td>\n",
       "      <td>2015-10-19 08:19:00.0000000</td>\n",
       "      <td>166 14th St, Dallas, TX 75001</td>\n",
       "    </tr>\n",
       "    <tr>\n",
       "      <th>85640</th>\n",
       "      <td>223417.0</td>\n",
       "      <td>27in FHD Monitor</td>\n",
       "      <td>1.0</td>\n",
       "      <td>149.990005</td>\n",
       "      <td>2013-07-19 18:03:00.0000000</td>\n",
       "      <td>238 River St, San Francisco, CA 94016</td>\n",
       "    </tr>\n",
       "    <tr>\n",
       "      <th>118154</th>\n",
       "      <td>254727.0</td>\n",
       "      <td>Flatscreen TV</td>\n",
       "      <td>1.0</td>\n",
       "      <td>300.000000</td>\n",
       "      <td>2012-09-19 12:44:00.0000000</td>\n",
       "      <td>546 1st St, San Francisco, CA 94016</td>\n",
       "    </tr>\n",
       "    <tr>\n",
       "      <th>176739</th>\n",
       "      <td>311059.0</td>\n",
       "      <td>USB-C Charging Cable</td>\n",
       "      <td>1.0</td>\n",
       "      <td>11.950000</td>\n",
       "      <td>2002-12-19 17:41:00.0000000</td>\n",
       "      <td>970 14th St, San Francisco, CA 94016</td>\n",
       "    </tr>\n",
       "    <tr>\n",
       "      <th>74151</th>\n",
       "      <td>212384.0</td>\n",
       "      <td>USB-C Charging Cable</td>\n",
       "      <td>1.0</td>\n",
       "      <td>11.950000</td>\n",
       "      <td>2014-06-19 12:49:00.0000000</td>\n",
       "      <td>859 Madison St, Los Angeles, CA 90001</td>\n",
       "    </tr>\n",
       "    <tr>\n",
       "      <th>30662</th>\n",
       "      <td>170681.0</td>\n",
       "      <td>Macbook Pro Laptop</td>\n",
       "      <td>1.0</td>\n",
       "      <td>1700.000000</td>\n",
       "      <td>2020-03-19 11:57:00.0000000</td>\n",
       "      <td>760 West St, New York City, NY 10001</td>\n",
       "    </tr>\n",
       "    <tr>\n",
       "      <th>79667</th>\n",
       "      <td>217686.0</td>\n",
       "      <td>AAA Batteries (4-pack)</td>\n",
       "      <td>1.0</td>\n",
       "      <td>2.990000</td>\n",
       "      <td>2017-06-19 17:54:00.0000000</td>\n",
       "      <td>134 2nd St, Portland, OR 97035</td>\n",
       "    </tr>\n",
       "    <tr>\n",
       "      <th>67662</th>\n",
       "      <td>206162.0</td>\n",
       "      <td>27in 4K Gaming Monitor</td>\n",
       "      <td>1.0</td>\n",
       "      <td>389.989990</td>\n",
       "      <td>2002-05-19 14:49:00.0000000</td>\n",
       "      <td>214 11th St, New York City, NY 10001</td>\n",
       "    </tr>\n",
       "    <tr>\n",
       "      <th>24406</th>\n",
       "      <td>164656.0</td>\n",
       "      <td>Lightning Charging Cable</td>\n",
       "      <td>1.0</td>\n",
       "      <td>14.950000</td>\n",
       "      <td>2010-03-19 19:45:00.0000000</td>\n",
       "      <td>357 West St, Los Angeles, CA 90001</td>\n",
       "    </tr>\n",
       "  </tbody>\n",
       "</table>\n",
       "</div>"
      ],
      "text/plain": [
       "        order_id                   product  quantity_ordered   price_each  \\\n",
       "166578  301262.0          27in FHD Monitor               1.0   149.990005   \n",
       "143093  278703.0    27in 4K Gaming Monitor               1.0   389.989990   \n",
       "85640   223417.0          27in FHD Monitor               1.0   149.990005   \n",
       "118154  254727.0             Flatscreen TV               1.0   300.000000   \n",
       "176739  311059.0      USB-C Charging Cable               1.0    11.950000   \n",
       "74151   212384.0      USB-C Charging Cable               1.0    11.950000   \n",
       "30662   170681.0        Macbook Pro Laptop               1.0  1700.000000   \n",
       "79667   217686.0    AAA Batteries (4-pack)               1.0     2.990000   \n",
       "67662   206162.0    27in 4K Gaming Monitor               1.0   389.989990   \n",
       "24406   164656.0  Lightning Charging Cable               1.0    14.950000   \n",
       "\n",
       "                         order_date                       purchase_address  \n",
       "166578  2008-12-19 11:22:00.0000000  829 Johnson St, Los Angeles, CA 90001  \n",
       "143093  2015-10-19 08:19:00.0000000          166 14th St, Dallas, TX 75001  \n",
       "85640   2013-07-19 18:03:00.0000000  238 River St, San Francisco, CA 94016  \n",
       "118154  2012-09-19 12:44:00.0000000    546 1st St, San Francisco, CA 94016  \n",
       "176739  2002-12-19 17:41:00.0000000   970 14th St, San Francisco, CA 94016  \n",
       "74151   2014-06-19 12:49:00.0000000  859 Madison St, Los Angeles, CA 90001  \n",
       "30662   2020-03-19 11:57:00.0000000   760 West St, New York City, NY 10001  \n",
       "79667   2017-06-19 17:54:00.0000000         134 2nd St, Portland, OR 97035  \n",
       "67662   2002-05-19 14:49:00.0000000   214 11th St, New York City, NY 10001  \n",
       "24406   2010-03-19 19:45:00.0000000     357 West St, Los Angeles, CA 90001  "
      ]
     },
     "execution_count": 13,
     "metadata": {},
     "output_type": "execute_result"
    }
   ],
   "source": [
    "df.sample(10)"
   ]
  },
  {
   "cell_type": "code",
   "execution_count": 14,
   "id": "8e3d192d-9ba3-4bb6-9a2f-edf1d1049690",
   "metadata": {},
   "outputs": [
    {
     "name": "stderr",
     "output_type": "stream",
     "text": [
      "C:\\Users\\danie\\AppData\\Local\\Temp\\ipykernel_4568\\2189660946.py:1: UserWarning: Could not infer format, so each element will be parsed individually, falling back to `dateutil`. To ensure parsing is consistent and as-expected, please specify a format.\n",
      "  pd.to_datetime(dates)\n"
     ]
    },
    {
     "data": {
      "text/plain": [
       "DatetimeIndex([                'NaT',                 'NaT',\n",
       "                               'NaT', '2019-01-02 11:31:00',\n",
       "               '2019-01-02 11:46:00', '2019-01-02 13:39:00',\n",
       "               '2019-01-02 14:35:00', '2019-01-02 18:39:00',\n",
       "               '2019-01-02 20:08:00', '2019-01-02 20:37:00',\n",
       "               ...\n",
       "               '2019-11-12 21:24:00', '2019-12-31 19:07:00',\n",
       "               '2019-07-12 08:25:00', '2019-12-30 01:06:00',\n",
       "               '2019-12-15 11:13:00', '2019-11-12 20:58:00',\n",
       "               '2019-01-12 12:01:00', '2019-09-12 06:43:00',\n",
       "               '2019-03-12 10:39:00', '2019-12-21 21:45:00'],\n",
       "              dtype='datetime64[ns]', length=185690, freq=None)"
      ]
     },
     "execution_count": 14,
     "metadata": {},
     "output_type": "execute_result"
    }
   ],
   "source": [
    "pd.to_datetime(dates)"
   ]
  },
  {
   "cell_type": "code",
   "execution_count": 15,
   "id": "82a5581f-1ee6-4e17-be9c-f46118bc0f1d",
   "metadata": {},
   "outputs": [
    {
     "name": "stderr",
     "output_type": "stream",
     "text": [
      "C:\\Users\\danie\\AppData\\Local\\Temp\\ipykernel_4568\\4106390540.py:1: UserWarning: Could not infer format, so each element will be parsed individually, falling back to `dateutil`. To ensure parsing is consistent and as-expected, please specify a format.\n",
      "  df.order_date = pd.to_datetime(dates)\n"
     ]
    }
   ],
   "source": [
    "df.order_date = pd.to_datetime(dates)"
   ]
  },
  {
   "cell_type": "markdown",
   "id": "b6c944b4-e95b-45bb-8a8d-f8e95e5d076e",
   "metadata": {},
   "source": [
    "## Check dtypes again:"
   ]
  },
  {
   "cell_type": "code",
   "execution_count": 16,
   "id": "ac9af4e7-215f-4766-80c0-62ef31c37de2",
   "metadata": {},
   "outputs": [
    {
     "data": {
      "text/plain": [
       "order_id                   float64\n",
       "product                     object\n",
       "quantity_ordered           float64\n",
       "price_each                 float64\n",
       "order_date          datetime64[ns]\n",
       "purchase_address            object\n",
       "dtype: object"
      ]
     },
     "execution_count": 16,
     "metadata": {},
     "output_type": "execute_result"
    }
   ],
   "source": [
    "df.dtypes"
   ]
  },
  {
   "cell_type": "markdown",
   "id": "931badc9-634d-40a0-9b01-af4e7f16367d",
   "metadata": {},
   "source": [
    "## Check missing values"
   ]
  },
  {
   "cell_type": "code",
   "execution_count": 17,
   "id": "c90cb350-5128-429d-aac8-ae463c854e01",
   "metadata": {},
   "outputs": [
    {
     "data": {
      "text/plain": [
       "order_id            2\n",
       "product             2\n",
       "quantity_ordered    4\n",
       "price_each          4\n",
       "order_date          4\n",
       "purchase_address    2\n",
       "dtype: int64"
      ]
     },
     "execution_count": 17,
     "metadata": {},
     "output_type": "execute_result"
    }
   ],
   "source": [
    "df.isnull().sum()"
   ]
  },
  {
   "cell_type": "code",
   "execution_count": 18,
   "id": "bb260ed8-f40b-47da-81eb-e1bfa8c02bd9",
   "metadata": {},
   "outputs": [
    {
     "data": {
      "text/html": [
       "<div>\n",
       "<style scoped>\n",
       "    .dataframe tbody tr th:only-of-type {\n",
       "        vertical-align: middle;\n",
       "    }\n",
       "\n",
       "    .dataframe tbody tr th {\n",
       "        vertical-align: top;\n",
       "    }\n",
       "\n",
       "    .dataframe thead th {\n",
       "        text-align: right;\n",
       "    }\n",
       "</style>\n",
       "<table border=\"1\" class=\"dataframe\">\n",
       "  <thead>\n",
       "    <tr style=\"text-align: right;\">\n",
       "      <th></th>\n",
       "      <th>order_id</th>\n",
       "      <th>product</th>\n",
       "      <th>quantity_ordered</th>\n",
       "      <th>price_each</th>\n",
       "      <th>order_date</th>\n",
       "      <th>purchase_address</th>\n",
       "    </tr>\n",
       "  </thead>\n",
       "  <tbody>\n",
       "    <tr>\n",
       "      <th>0</th>\n",
       "      <td>NaN</td>\n",
       "      <td>NaN</td>\n",
       "      <td>NaN</td>\n",
       "      <td>NaN</td>\n",
       "      <td>NaT</td>\n",
       "      <td>NaN</td>\n",
       "    </tr>\n",
       "    <tr>\n",
       "      <th>1</th>\n",
       "      <td>NaN</td>\n",
       "      <td>Product</td>\n",
       "      <td>NaN</td>\n",
       "      <td>NaN</td>\n",
       "      <td>NaT</td>\n",
       "      <td>Purchase Address</td>\n",
       "    </tr>\n",
       "    <tr>\n",
       "      <th>2</th>\n",
       "      <td>0.0</td>\n",
       "      <td>NaN</td>\n",
       "      <td>NaN</td>\n",
       "      <td>NaN</td>\n",
       "      <td>NaT</td>\n",
       "      <td>NaN</td>\n",
       "    </tr>\n",
       "    <tr>\n",
       "      <th>7319</th>\n",
       "      <td>0.0</td>\n",
       "      <td>Product</td>\n",
       "      <td>NaN</td>\n",
       "      <td>NaN</td>\n",
       "      <td>NaT</td>\n",
       "      <td>Purchase Address</td>\n",
       "    </tr>\n",
       "  </tbody>\n",
       "</table>\n",
       "</div>"
      ],
      "text/plain": [
       "      order_id  product  quantity_ordered  price_each order_date  \\\n",
       "0          NaN      NaN               NaN         NaN        NaT   \n",
       "1          NaN  Product               NaN         NaN        NaT   \n",
       "2          0.0      NaN               NaN         NaN        NaT   \n",
       "7319       0.0  Product               NaN         NaN        NaT   \n",
       "\n",
       "      purchase_address  \n",
       "0                  NaN  \n",
       "1     Purchase Address  \n",
       "2                  NaN  \n",
       "7319  Purchase Address  "
      ]
     },
     "execution_count": 18,
     "metadata": {},
     "output_type": "execute_result"
    }
   ],
   "source": [
    "df[df.isnull().sum(axis=1) >= 2]"
   ]
  },
  {
   "cell_type": "markdown",
   "id": "96ffc236-8b51-4b58-bd5b-9baec2072388",
   "metadata": {},
   "source": [
    "I will drop those records."
   ]
  },
  {
   "cell_type": "code",
   "execution_count": 19,
   "id": "902a8067-8601-4dcb-adc4-71e0e649e684",
   "metadata": {},
   "outputs": [],
   "source": [
    "index_to_drop = df[df.isnull().sum(axis=1) >= 2].index\n",
    "df = df.drop(index_to_drop)"
   ]
  },
  {
   "cell_type": "markdown",
   "id": "90906b34-a81e-4ee8-b49e-d14729ff2875",
   "metadata": {},
   "source": [
    "## Change `dtypes` from `float` (presence of `nan` values) to `int`:"
   ]
  },
  {
   "cell_type": "code",
   "execution_count": 20,
   "id": "e84a73aa-647b-4f9b-810b-e606db5cd98e",
   "metadata": {},
   "outputs": [
    {
     "data": {
      "text/plain": [
       "order_id            0\n",
       "product             0\n",
       "quantity_ordered    0\n",
       "price_each          0\n",
       "order_date          0\n",
       "purchase_address    0\n",
       "dtype: int64"
      ]
     },
     "execution_count": 20,
     "metadata": {},
     "output_type": "execute_result"
    }
   ],
   "source": [
    "df.isnull().sum()"
   ]
  },
  {
   "cell_type": "code",
   "execution_count": 21,
   "id": "e2a0ab08-e6fc-4d3b-bbde-b2d2742d39e7",
   "metadata": {},
   "outputs": [],
   "source": [
    "df.quantity_ordered = df.quantity_ordered.astype(int)"
   ]
  },
  {
   "cell_type": "markdown",
   "id": "eec62423-0b0d-4099-acbb-2c750cf32bc0",
   "metadata": {},
   "source": [
    "## Add a column with the `month_name`:"
   ]
  },
  {
   "cell_type": "code",
   "execution_count": 22,
   "id": "a931133e-f560-49a5-a433-16a796fd1ec9",
   "metadata": {},
   "outputs": [],
   "source": [
    "df['month_name'] = df.order_date.dt.strftime('%B')"
   ]
  },
  {
   "cell_type": "markdown",
   "id": "7a1acfb0-156a-446d-b170-8979904f12e5",
   "metadata": {},
   "source": [
    "### Turn `month_name` to `categorical dtype`:  \n",
    "I will turn the `month_name` column into an ordered categorical variable."
   ]
  },
  {
   "cell_type": "code",
   "execution_count": 23,
   "id": "5dc43741-b5c5-4861-a92b-5f13dddd7f8a",
   "metadata": {},
   "outputs": [],
   "source": [
    "months_ordered = 'january, february, march, april, may, june, july, august, september, october, november, december'.title().split(', ')"
   ]
  },
  {
   "cell_type": "code",
   "execution_count": 24,
   "id": "bf4f115e-19ac-4235-b7b3-abf2de64b2ad",
   "metadata": {},
   "outputs": [],
   "source": [
    "df.month_name = df.month_name.astype(pd.CategoricalDtype(categories=months_ordered, ordered=True))"
   ]
  },
  {
   "cell_type": "code",
   "execution_count": 25,
   "id": "d76d2b42-a7cb-4436-b940-d8bc1e094298",
   "metadata": {},
   "outputs": [
    {
     "data": {
      "text/html": [
       "<div>\n",
       "<style scoped>\n",
       "    .dataframe tbody tr th:only-of-type {\n",
       "        vertical-align: middle;\n",
       "    }\n",
       "\n",
       "    .dataframe tbody tr th {\n",
       "        vertical-align: top;\n",
       "    }\n",
       "\n",
       "    .dataframe thead th {\n",
       "        text-align: right;\n",
       "    }\n",
       "</style>\n",
       "<table border=\"1\" class=\"dataframe\">\n",
       "  <thead>\n",
       "    <tr style=\"text-align: right;\">\n",
       "      <th></th>\n",
       "      <th>order_id</th>\n",
       "      <th>product</th>\n",
       "      <th>quantity_ordered</th>\n",
       "      <th>price_each</th>\n",
       "      <th>order_date</th>\n",
       "      <th>purchase_address</th>\n",
       "      <th>month_name</th>\n",
       "    </tr>\n",
       "  </thead>\n",
       "  <tbody>\n",
       "    <tr>\n",
       "      <th>3</th>\n",
       "      <td>0.0</td>\n",
       "      <td>20in Monitor</td>\n",
       "      <td>1</td>\n",
       "      <td>109.989998</td>\n",
       "      <td>2019-01-02 11:31:00</td>\n",
       "      <td>80 2nd St, Los Angeles, CA 90001</td>\n",
       "      <td>January</td>\n",
       "    </tr>\n",
       "    <tr>\n",
       "      <th>4</th>\n",
       "      <td>0.0</td>\n",
       "      <td>20in Monitor</td>\n",
       "      <td>1</td>\n",
       "      <td>109.989998</td>\n",
       "      <td>2019-01-02 11:46:00</td>\n",
       "      <td>420 Washington St, Boston, MA 02215</td>\n",
       "      <td>January</td>\n",
       "    </tr>\n",
       "    <tr>\n",
       "      <th>5</th>\n",
       "      <td>0.0</td>\n",
       "      <td>20in Monitor</td>\n",
       "      <td>1</td>\n",
       "      <td>109.989998</td>\n",
       "      <td>2019-01-02 13:39:00</td>\n",
       "      <td>649 2nd St, San Francisco, CA 94016</td>\n",
       "      <td>January</td>\n",
       "    </tr>\n",
       "    <tr>\n",
       "      <th>6</th>\n",
       "      <td>0.0</td>\n",
       "      <td>20in Monitor</td>\n",
       "      <td>1</td>\n",
       "      <td>109.989998</td>\n",
       "      <td>2019-01-02 14:35:00</td>\n",
       "      <td>852 Jefferson St, San Francisco, CA 94016</td>\n",
       "      <td>January</td>\n",
       "    </tr>\n",
       "    <tr>\n",
       "      <th>7</th>\n",
       "      <td>0.0</td>\n",
       "      <td>20in Monitor</td>\n",
       "      <td>1</td>\n",
       "      <td>109.989998</td>\n",
       "      <td>2019-01-02 18:39:00</td>\n",
       "      <td>467 Chestnut St, Portland, OR 97035</td>\n",
       "      <td>January</td>\n",
       "    </tr>\n",
       "  </tbody>\n",
       "</table>\n",
       "</div>"
      ],
      "text/plain": [
       "   order_id       product  quantity_ordered  price_each          order_date  \\\n",
       "3       0.0  20in Monitor                 1  109.989998 2019-01-02 11:31:00   \n",
       "4       0.0  20in Monitor                 1  109.989998 2019-01-02 11:46:00   \n",
       "5       0.0  20in Monitor                 1  109.989998 2019-01-02 13:39:00   \n",
       "6       0.0  20in Monitor                 1  109.989998 2019-01-02 14:35:00   \n",
       "7       0.0  20in Monitor                 1  109.989998 2019-01-02 18:39:00   \n",
       "\n",
       "                            purchase_address month_name  \n",
       "3           80 2nd St, Los Angeles, CA 90001    January  \n",
       "4        420 Washington St, Boston, MA 02215    January  \n",
       "5        649 2nd St, San Francisco, CA 94016    January  \n",
       "6  852 Jefferson St, San Francisco, CA 94016    January  \n",
       "7        467 Chestnut St, Portland, OR 97035    January  "
      ]
     },
     "execution_count": 25,
     "metadata": {},
     "output_type": "execute_result"
    }
   ],
   "source": [
    "df.head()"
   ]
  },
  {
   "cell_type": "markdown",
   "id": "27a58ba8-405d-4661-a434-ce6c4baf8a69",
   "metadata": {},
   "source": [
    "## City and state information"
   ]
  },
  {
   "cell_type": "markdown",
   "id": "9d078efb-d54b-4280-b0b6-5a101e0e076a",
   "metadata": {},
   "source": [
    "First, I need to extract information about the cities from where the orders were placed. "
   ]
  },
  {
   "cell_type": "code",
   "execution_count": 26,
   "id": "c39c1d8c-e64b-4459-b411-daad4f1a741e",
   "metadata": {},
   "outputs": [],
   "source": [
    "addresses = df.purchase_address"
   ]
  },
  {
   "cell_type": "code",
   "execution_count": 27,
   "id": "b634d90c-4deb-4f77-9f9c-895d57a151fc",
   "metadata": {},
   "outputs": [
    {
     "data": {
      "text/plain": [
       "15822    366 Sunset St, New York City, NY 10001\n",
       "636       298 Maple St, New York City, NY 10001\n",
       "41789          12 Highland St, Boston, MA 02215\n",
       "57279            373 11th St, Atlanta, GA 30301\n",
       "85366           825 North St, Seattle, WA 98101\n",
       "Name: purchase_address, dtype: object"
      ]
     },
     "execution_count": 27,
     "metadata": {},
     "output_type": "execute_result"
    }
   ],
   "source": [
    "addresses.sample(5)"
   ]
  },
  {
   "cell_type": "markdown",
   "id": "a027a297-3bb0-403f-bffc-ffe84f8b9117",
   "metadata": {},
   "source": [
    "Technically, if I split the address using the comma as separator, I can easily get the city as the third element of the resulting list."
   ]
  },
  {
   "cell_type": "code",
   "execution_count": 28,
   "id": "10f69f96-32dc-4dba-8d53-441c2ea09c30",
   "metadata": {},
   "outputs": [
    {
     "data": {
      "text/plain": [
       "141706     [281 Maple St,  Los Angeles,  CA 90001]\n",
       "118731    [405 Wilson St,  Los Angeles,  CA 90001]\n",
       "157919      [552 Dogwood St,  Portland,  OR 97035]\n",
       "62338         [879 North St,  Portland,  OR 97035]\n",
       "95382     [21 River St,  New York City,  NY 10001]\n",
       "Name: purchase_address, dtype: object"
      ]
     },
     "execution_count": 28,
     "metadata": {},
     "output_type": "execute_result"
    }
   ],
   "source": [
    "split_address_info = addresses.str.split(',')\n",
    "split_address_info.sample(5)"
   ]
  },
  {
   "cell_type": "code",
   "execution_count": 29,
   "id": "fc14ab41-7ec9-4802-82db-eb796ae474d6",
   "metadata": {},
   "outputs": [
    {
     "data": {
      "text/plain": [
       "['Los Angeles', 'Boston', 'San Francisco', 'San Francisco', 'Portland']"
      ]
     },
     "execution_count": 29,
     "metadata": {},
     "output_type": "execute_result"
    }
   ],
   "source": [
    "cities = [i[1].strip() for i in split_address_info]\n",
    "cities[:5]"
   ]
  },
  {
   "cell_type": "code",
   "execution_count": 32,
   "id": "b64c3c8b-a2f4-4de8-99ef-1cdb8ff14798",
   "metadata": {},
   "outputs": [
    {
     "data": {
      "text/plain": [
       "['CA', 'MA', 'CA', 'CA', 'OR']"
      ]
     },
     "execution_count": 32,
     "metadata": {},
     "output_type": "execute_result"
    }
   ],
   "source": [
    "state_codes = [i[2].split()[0] for i in split_address_info]\n",
    "state_codes[:5]"
   ]
  },
  {
   "cell_type": "markdown",
   "id": "f66c996d-962f-443a-8dbb-8bca4ed9766a",
   "metadata": {},
   "source": [
    "Once I have checked the procedure works, let's apply it to the dataset."
   ]
  },
  {
   "cell_type": "code",
   "execution_count": 34,
   "id": "12276ce4-1547-4ee8-a77e-6efec877b1f5",
   "metadata": {},
   "outputs": [],
   "source": [
    "df['city'] = cities\n",
    "df['state_code'] = state_codes"
   ]
  },
  {
   "cell_type": "markdown",
   "id": "5bef5883-8e89-4b30-8e01-108669f1ce03",
   "metadata": {},
   "source": [
    "Finally, I want to translate the state codes to their corresponding names. Thanks to ChatGPT for providing this information! "
   ]
  },
  {
   "cell_type": "code",
   "execution_count": 35,
   "id": "df785bb8-bc65-4b6c-a734-164c89beab1f",
   "metadata": {
    "jupyter": {
     "source_hidden": true
    }
   },
   "outputs": [],
   "source": [
    "usa_states = {\n",
    "    'AL': 'Alabama',\n",
    "    'AK': 'Alaska',\n",
    "    'AZ': 'Arizona',\n",
    "    'AR': 'Arkansas',\n",
    "    'CA': 'California',\n",
    "    'CO': 'Colorado',\n",
    "    'CT': 'Connecticut',\n",
    "    'DE': 'Delaware',\n",
    "    'FL': 'Florida',\n",
    "    'GA': 'Georgia',\n",
    "    'HI': 'Hawaii',\n",
    "    'ID': 'Idaho',\n",
    "    'IL': 'Illinois',\n",
    "    'IN': 'Indiana',\n",
    "    'IA': 'Iowa',\n",
    "    'KS': 'Kansas',\n",
    "    'KY': 'Kentucky',\n",
    "    'LA': 'Louisiana',\n",
    "    'ME': 'Maine',\n",
    "    'MD': 'Maryland',\n",
    "    'MA': 'Massachusetts',\n",
    "    'MI': 'Michigan',\n",
    "    'MN': 'Minnesota',\n",
    "    'MS': 'Mississippi',\n",
    "    'MO': 'Missouri',\n",
    "    'MT': 'Montana',\n",
    "    'NE': 'Nebraska',\n",
    "    'NV': 'Nevada',\n",
    "    'NH': 'New Hampshire',\n",
    "    'NJ': 'New Jersey',\n",
    "    'NM': 'New Mexico',\n",
    "    'NY': 'New York',\n",
    "    'NC': 'North Carolina',\n",
    "    'ND': 'North Dakota',\n",
    "    'OH': 'Ohio',\n",
    "    'OK': 'Oklahoma',\n",
    "    'OR': 'Oregon',\n",
    "    'PA': 'Pennsylvania',\n",
    "    'RI': 'Rhode Island',\n",
    "    'SC': 'South Carolina',\n",
    "    'SD': 'South Dakota',\n",
    "    'TN': 'Tennessee',\n",
    "    'TX': 'Texas',\n",
    "    'UT': 'Utah',\n",
    "    'VT': 'Vermont',\n",
    "    'VA': 'Virginia',\n",
    "    'WA': 'Washington',\n",
    "    'WV': 'West Virginia',\n",
    "    'WI': 'Wisconsin',\n",
    "    'WY': 'Wyoming'\n",
    "}"
   ]
  },
  {
   "cell_type": "code",
   "execution_count": 36,
   "id": "cffac9a2-3012-4461-99ba-f22c72509ae0",
   "metadata": {},
   "outputs": [],
   "source": [
    "df['state'] = [usa_states[i] for i in df.state_code]"
   ]
  },
  {
   "cell_type": "code",
   "execution_count": 37,
   "id": "0e04947f-9fc5-4428-adeb-7f2f69a2b456",
   "metadata": {
    "scrolled": true
   },
   "outputs": [
    {
     "data": {
      "text/html": [
       "<div>\n",
       "<style scoped>\n",
       "    .dataframe tbody tr th:only-of-type {\n",
       "        vertical-align: middle;\n",
       "    }\n",
       "\n",
       "    .dataframe tbody tr th {\n",
       "        vertical-align: top;\n",
       "    }\n",
       "\n",
       "    .dataframe thead th {\n",
       "        text-align: right;\n",
       "    }\n",
       "</style>\n",
       "<table border=\"1\" class=\"dataframe\">\n",
       "  <thead>\n",
       "    <tr style=\"text-align: right;\">\n",
       "      <th></th>\n",
       "      <th>order_id</th>\n",
       "      <th>product</th>\n",
       "      <th>quantity_ordered</th>\n",
       "      <th>price_each</th>\n",
       "      <th>order_date</th>\n",
       "      <th>purchase_address</th>\n",
       "      <th>month_name</th>\n",
       "      <th>city</th>\n",
       "      <th>state_code</th>\n",
       "      <th>state</th>\n",
       "    </tr>\n",
       "  </thead>\n",
       "  <tbody>\n",
       "    <tr>\n",
       "      <th>112695</th>\n",
       "      <td>249468.0</td>\n",
       "      <td>Wired Headphones</td>\n",
       "      <td>1</td>\n",
       "      <td>11.990000</td>\n",
       "      <td>2019-09-25 11:12:00</td>\n",
       "      <td>271 Adams St, Los Angeles, CA 90001</td>\n",
       "      <td>September</td>\n",
       "      <td>Los Angeles</td>\n",
       "      <td>CA</td>\n",
       "      <td>California</td>\n",
       "    </tr>\n",
       "    <tr>\n",
       "      <th>152456</th>\n",
       "      <td>287713.0</td>\n",
       "      <td>Wired Headphones</td>\n",
       "      <td>1</td>\n",
       "      <td>11.990000</td>\n",
       "      <td>2019-11-11 16:59:00</td>\n",
       "      <td>807 Walnut St, Los Angeles, CA 90001</td>\n",
       "      <td>November</td>\n",
       "      <td>Los Angeles</td>\n",
       "      <td>CA</td>\n",
       "      <td>California</td>\n",
       "    </tr>\n",
       "    <tr>\n",
       "      <th>12495</th>\n",
       "      <td>142336.0</td>\n",
       "      <td>20in Monitor</td>\n",
       "      <td>1</td>\n",
       "      <td>109.989998</td>\n",
       "      <td>2019-01-28 14:32:00</td>\n",
       "      <td>571 Hill St, Portland, OR 97035</td>\n",
       "      <td>January</td>\n",
       "      <td>Portland</td>\n",
       "      <td>OR</td>\n",
       "      <td>Oregon</td>\n",
       "    </tr>\n",
       "    <tr>\n",
       "      <th>152784</th>\n",
       "      <td>288031.0</td>\n",
       "      <td>Bose SoundSport Headphones</td>\n",
       "      <td>1</td>\n",
       "      <td>99.989998</td>\n",
       "      <td>2019-11-16 08:16:00</td>\n",
       "      <td>498 Forest St, Seattle, WA 98101</td>\n",
       "      <td>November</td>\n",
       "      <td>Seattle</td>\n",
       "      <td>WA</td>\n",
       "      <td>Washington</td>\n",
       "    </tr>\n",
       "    <tr>\n",
       "      <th>113834</th>\n",
       "      <td>250567.0</td>\n",
       "      <td>USB-C Charging Cable</td>\n",
       "      <td>1</td>\n",
       "      <td>11.950000</td>\n",
       "      <td>2019-09-22 11:34:00</td>\n",
       "      <td>940 Dogwood St, Atlanta, GA 30301</td>\n",
       "      <td>September</td>\n",
       "      <td>Atlanta</td>\n",
       "      <td>GA</td>\n",
       "      <td>Georgia</td>\n",
       "    </tr>\n",
       "    <tr>\n",
       "      <th>66154</th>\n",
       "      <td>204723.0</td>\n",
       "      <td>27in FHD Monitor</td>\n",
       "      <td>1</td>\n",
       "      <td>149.990005</td>\n",
       "      <td>2019-05-19 16:57:00</td>\n",
       "      <td>938 Lincoln St, Boston, MA 02215</td>\n",
       "      <td>May</td>\n",
       "      <td>Boston</td>\n",
       "      <td>MA</td>\n",
       "      <td>Massachusetts</td>\n",
       "    </tr>\n",
       "    <tr>\n",
       "      <th>64080</th>\n",
       "      <td>202735.0</td>\n",
       "      <td>27in 4K Gaming Monitor</td>\n",
       "      <td>1</td>\n",
       "      <td>389.989990</td>\n",
       "      <td>2019-05-24 02:06:00</td>\n",
       "      <td>30 Chestnut St, Portland, OR 97035</td>\n",
       "      <td>May</td>\n",
       "      <td>Portland</td>\n",
       "      <td>OR</td>\n",
       "      <td>Oregon</td>\n",
       "    </tr>\n",
       "    <tr>\n",
       "      <th>152558</th>\n",
       "      <td>287812.0</td>\n",
       "      <td>Wired Headphones</td>\n",
       "      <td>1</td>\n",
       "      <td>11.990000</td>\n",
       "      <td>2019-11-22 19:43:00</td>\n",
       "      <td>737 Lincoln St, Boston, MA 02215</td>\n",
       "      <td>November</td>\n",
       "      <td>Boston</td>\n",
       "      <td>MA</td>\n",
       "      <td>Massachusetts</td>\n",
       "    </tr>\n",
       "    <tr>\n",
       "      <th>170073</th>\n",
       "      <td>304626.0</td>\n",
       "      <td>Google Phone</td>\n",
       "      <td>1</td>\n",
       "      <td>600.000000</td>\n",
       "      <td>2019-12-27 09:30:00</td>\n",
       "      <td>68 7th St, New York City, NY 10001</td>\n",
       "      <td>December</td>\n",
       "      <td>New York City</td>\n",
       "      <td>NY</td>\n",
       "      <td>New York</td>\n",
       "    </tr>\n",
       "    <tr>\n",
       "      <th>42602</th>\n",
       "      <td>182163.0</td>\n",
       "      <td>Lightning Charging Cable</td>\n",
       "      <td>1</td>\n",
       "      <td>14.950000</td>\n",
       "      <td>2019-07-04 23:25:00</td>\n",
       "      <td>480 Meadow St, San Francisco, CA 94016</td>\n",
       "      <td>July</td>\n",
       "      <td>San Francisco</td>\n",
       "      <td>CA</td>\n",
       "      <td>California</td>\n",
       "    </tr>\n",
       "    <tr>\n",
       "      <th>100925</th>\n",
       "      <td>238157.0</td>\n",
       "      <td>USB-C Charging Cable</td>\n",
       "      <td>1</td>\n",
       "      <td>11.950000</td>\n",
       "      <td>2019-12-08 19:09:00</td>\n",
       "      <td>14 Lakeview St, San Francisco, CA 94016</td>\n",
       "      <td>December</td>\n",
       "      <td>San Francisco</td>\n",
       "      <td>CA</td>\n",
       "      <td>California</td>\n",
       "    </tr>\n",
       "    <tr>\n",
       "      <th>136226</th>\n",
       "      <td>272113.0</td>\n",
       "      <td>Lightning Charging Cable</td>\n",
       "      <td>1</td>\n",
       "      <td>14.950000</td>\n",
       "      <td>2019-10-26 21:05:00</td>\n",
       "      <td>127 Maple St, San Francisco, CA 94016</td>\n",
       "      <td>October</td>\n",
       "      <td>San Francisco</td>\n",
       "      <td>CA</td>\n",
       "      <td>California</td>\n",
       "    </tr>\n",
       "    <tr>\n",
       "      <th>168111</th>\n",
       "      <td>302741.0</td>\n",
       "      <td>27in 4K Gaming Monitor</td>\n",
       "      <td>1</td>\n",
       "      <td>389.989990</td>\n",
       "      <td>2019-12-22 07:53:00</td>\n",
       "      <td>417 Johnson St, Los Angeles, CA 90001</td>\n",
       "      <td>December</td>\n",
       "      <td>Los Angeles</td>\n",
       "      <td>CA</td>\n",
       "      <td>California</td>\n",
       "    </tr>\n",
       "    <tr>\n",
       "      <th>12498</th>\n",
       "      <td>142339.0</td>\n",
       "      <td>Wired Headphones</td>\n",
       "      <td>2</td>\n",
       "      <td>11.990000</td>\n",
       "      <td>2019-10-01 17:12:00</td>\n",
       "      <td>115 7th St, Portland, OR 97035</td>\n",
       "      <td>October</td>\n",
       "      <td>Portland</td>\n",
       "      <td>OR</td>\n",
       "      <td>Oregon</td>\n",
       "    </tr>\n",
       "    <tr>\n",
       "      <th>154802</th>\n",
       "      <td>289959.0</td>\n",
       "      <td>20in Monitor</td>\n",
       "      <td>1</td>\n",
       "      <td>109.989998</td>\n",
       "      <td>2019-11-30 18:05:00</td>\n",
       "      <td>678 Highland St, San Francisco, CA 94016</td>\n",
       "      <td>November</td>\n",
       "      <td>San Francisco</td>\n",
       "      <td>CA</td>\n",
       "      <td>California</td>\n",
       "    </tr>\n",
       "    <tr>\n",
       "      <th>92521</th>\n",
       "      <td>230042.0</td>\n",
       "      <td>34in Ultrawide Monitor</td>\n",
       "      <td>1</td>\n",
       "      <td>379.989990</td>\n",
       "      <td>2019-07-13 11:03:00</td>\n",
       "      <td>649 13th St, Boston, MA 02215</td>\n",
       "      <td>July</td>\n",
       "      <td>Boston</td>\n",
       "      <td>MA</td>\n",
       "      <td>Massachusetts</td>\n",
       "    </tr>\n",
       "    <tr>\n",
       "      <th>33754</th>\n",
       "      <td>173647.0</td>\n",
       "      <td>Vareebadd Phone</td>\n",
       "      <td>1</td>\n",
       "      <td>400.000000</td>\n",
       "      <td>2019-03-14 14:21:00</td>\n",
       "      <td>310 Cedar St, Atlanta, GA 30301</td>\n",
       "      <td>March</td>\n",
       "      <td>Atlanta</td>\n",
       "      <td>GA</td>\n",
       "      <td>Georgia</td>\n",
       "    </tr>\n",
       "    <tr>\n",
       "      <th>149699</th>\n",
       "      <td>285063.0</td>\n",
       "      <td>AAA Batteries (4-pack)</td>\n",
       "      <td>1</td>\n",
       "      <td>2.990000</td>\n",
       "      <td>2019-11-21 18:14:00</td>\n",
       "      <td>231 Pine St, San Francisco, CA 94016</td>\n",
       "      <td>November</td>\n",
       "      <td>San Francisco</td>\n",
       "      <td>CA</td>\n",
       "      <td>California</td>\n",
       "    </tr>\n",
       "    <tr>\n",
       "      <th>149758</th>\n",
       "      <td>285120.0</td>\n",
       "      <td>AA Batteries (4-pack)</td>\n",
       "      <td>1</td>\n",
       "      <td>3.840000</td>\n",
       "      <td>2019-11-19 16:49:00</td>\n",
       "      <td>94 Jackson St, Atlanta, GA 30301</td>\n",
       "      <td>November</td>\n",
       "      <td>Atlanta</td>\n",
       "      <td>GA</td>\n",
       "      <td>Georgia</td>\n",
       "    </tr>\n",
       "    <tr>\n",
       "      <th>11826</th>\n",
       "      <td>141705.0</td>\n",
       "      <td>Apple Airpods Headphones</td>\n",
       "      <td>1</td>\n",
       "      <td>150.000000</td>\n",
       "      <td>2019-01-01 14:15:00</td>\n",
       "      <td>478 8th St, Boston, MA 02215</td>\n",
       "      <td>January</td>\n",
       "      <td>Boston</td>\n",
       "      <td>MA</td>\n",
       "      <td>Massachusetts</td>\n",
       "    </tr>\n",
       "  </tbody>\n",
       "</table>\n",
       "</div>"
      ],
      "text/plain": [
       "        order_id                     product  quantity_ordered  price_each  \\\n",
       "112695  249468.0            Wired Headphones                 1   11.990000   \n",
       "152456  287713.0            Wired Headphones                 1   11.990000   \n",
       "12495   142336.0                20in Monitor                 1  109.989998   \n",
       "152784  288031.0  Bose SoundSport Headphones                 1   99.989998   \n",
       "113834  250567.0        USB-C Charging Cable                 1   11.950000   \n",
       "66154   204723.0            27in FHD Monitor                 1  149.990005   \n",
       "64080   202735.0      27in 4K Gaming Monitor                 1  389.989990   \n",
       "152558  287812.0            Wired Headphones                 1   11.990000   \n",
       "170073  304626.0                Google Phone                 1  600.000000   \n",
       "42602   182163.0    Lightning Charging Cable                 1   14.950000   \n",
       "100925  238157.0        USB-C Charging Cable                 1   11.950000   \n",
       "136226  272113.0    Lightning Charging Cable                 1   14.950000   \n",
       "168111  302741.0      27in 4K Gaming Monitor                 1  389.989990   \n",
       "12498   142339.0            Wired Headphones                 2   11.990000   \n",
       "154802  289959.0                20in Monitor                 1  109.989998   \n",
       "92521   230042.0      34in Ultrawide Monitor                 1  379.989990   \n",
       "33754   173647.0             Vareebadd Phone                 1  400.000000   \n",
       "149699  285063.0      AAA Batteries (4-pack)                 1    2.990000   \n",
       "149758  285120.0       AA Batteries (4-pack)                 1    3.840000   \n",
       "11826   141705.0    Apple Airpods Headphones                 1  150.000000   \n",
       "\n",
       "                order_date                          purchase_address  \\\n",
       "112695 2019-09-25 11:12:00       271 Adams St, Los Angeles, CA 90001   \n",
       "152456 2019-11-11 16:59:00      807 Walnut St, Los Angeles, CA 90001   \n",
       "12495  2019-01-28 14:32:00           571 Hill St, Portland, OR 97035   \n",
       "152784 2019-11-16 08:16:00          498 Forest St, Seattle, WA 98101   \n",
       "113834 2019-09-22 11:34:00         940 Dogwood St, Atlanta, GA 30301   \n",
       "66154  2019-05-19 16:57:00          938 Lincoln St, Boston, MA 02215   \n",
       "64080  2019-05-24 02:06:00        30 Chestnut St, Portland, OR 97035   \n",
       "152558 2019-11-22 19:43:00          737 Lincoln St, Boston, MA 02215   \n",
       "170073 2019-12-27 09:30:00        68 7th St, New York City, NY 10001   \n",
       "42602  2019-07-04 23:25:00    480 Meadow St, San Francisco, CA 94016   \n",
       "100925 2019-12-08 19:09:00   14 Lakeview St, San Francisco, CA 94016   \n",
       "136226 2019-10-26 21:05:00     127 Maple St, San Francisco, CA 94016   \n",
       "168111 2019-12-22 07:53:00     417 Johnson St, Los Angeles, CA 90001   \n",
       "12498  2019-10-01 17:12:00            115 7th St, Portland, OR 97035   \n",
       "154802 2019-11-30 18:05:00  678 Highland St, San Francisco, CA 94016   \n",
       "92521  2019-07-13 11:03:00             649 13th St, Boston, MA 02215   \n",
       "33754  2019-03-14 14:21:00           310 Cedar St, Atlanta, GA 30301   \n",
       "149699 2019-11-21 18:14:00      231 Pine St, San Francisco, CA 94016   \n",
       "149758 2019-11-19 16:49:00          94 Jackson St, Atlanta, GA 30301   \n",
       "11826  2019-01-01 14:15:00              478 8th St, Boston, MA 02215   \n",
       "\n",
       "       month_name           city state_code          state  \n",
       "112695  September    Los Angeles         CA     California  \n",
       "152456   November    Los Angeles         CA     California  \n",
       "12495     January       Portland         OR         Oregon  \n",
       "152784   November        Seattle         WA     Washington  \n",
       "113834  September        Atlanta         GA        Georgia  \n",
       "66154         May         Boston         MA  Massachusetts  \n",
       "64080         May       Portland         OR         Oregon  \n",
       "152558   November         Boston         MA  Massachusetts  \n",
       "170073   December  New York City         NY       New York  \n",
       "42602        July  San Francisco         CA     California  \n",
       "100925   December  San Francisco         CA     California  \n",
       "136226    October  San Francisco         CA     California  \n",
       "168111   December    Los Angeles         CA     California  \n",
       "12498     October       Portland         OR         Oregon  \n",
       "154802   November  San Francisco         CA     California  \n",
       "92521        July         Boston         MA  Massachusetts  \n",
       "33754       March        Atlanta         GA        Georgia  \n",
       "149699   November  San Francisco         CA     California  \n",
       "149758   November        Atlanta         GA        Georgia  \n",
       "11826     January         Boston         MA  Massachusetts  "
      ]
     },
     "execution_count": 37,
     "metadata": {},
     "output_type": "execute_result"
    }
   ],
   "source": [
    "df.sample(20)"
   ]
  },
  {
   "cell_type": "markdown",
   "id": "2c29e239-9554-4935-95b6-a054f255d338",
   "metadata": {},
   "source": [
    "## Are there issues with order_ID values?"
   ]
  },
  {
   "cell_type": "code",
   "execution_count": 38,
   "id": "e4cff94e-821c-406a-9ea8-d849924b9613",
   "metadata": {},
   "outputs": [
    {
     "data": {
      "text/plain": [
       "163833    298635.0\n",
       "99723     236997.0\n",
       "109957    246841.0\n",
       "118790    255335.0\n",
       "120397    256898.0\n",
       "153123    288355.0\n",
       "130521    266650.0\n",
       "60856     199654.0\n",
       "96419     233806.0\n",
       "26918     167072.0\n",
       "Name: order_id, dtype: float64"
      ]
     },
     "execution_count": 38,
     "metadata": {},
     "output_type": "execute_result"
    }
   ],
   "source": [
    "df.order_id.sample(10)"
   ]
  },
  {
   "cell_type": "markdown",
   "id": "2b7a811e-f023-4805-b0b4-11fc4fbb13fd",
   "metadata": {},
   "source": [
    "Check length of the order_ID figures"
   ]
  },
  {
   "cell_type": "code",
   "execution_count": 39,
   "id": "16ab1ddb-0cf3-416a-9798-b3ae8f1f9949",
   "metadata": {},
   "outputs": [
    {
     "data": {
      "text/plain": [
       "array([3, 7, 8], dtype=int64)"
      ]
     },
     "execution_count": 39,
     "metadata": {},
     "output_type": "execute_result"
    }
   ],
   "source": [
    "df.order_id.apply(lambda x : len(str(x)) ).unique()"
   ]
  },
  {
   "cell_type": "code",
   "execution_count": 40,
   "id": "47a45d8d-b95c-461d-ac25-363ff5e4694a",
   "metadata": {
    "scrolled": true
   },
   "outputs": [
    {
     "data": {
      "text/plain": [
       "[0.0, 0.0, 0.0, 0.0, 0.0]"
      ]
     },
     "execution_count": 40,
     "metadata": {},
     "output_type": "execute_result"
    }
   ],
   "source": [
    "strange_order_id_values = [i for i in df.order_id if len(str(i)) == 3]\n",
    "strange_order_id_values[:5]"
   ]
  },
  {
   "cell_type": "markdown",
   "id": "792a67e5-6d4a-4878-bfcf-c0870138bd74",
   "metadata": {},
   "source": [
    "I will set as `NaN` this order_id values"
   ]
  },
  {
   "cell_type": "code",
   "execution_count": 41,
   "id": "92ed9fec-f2db-4b3e-9332-a9d6409c4916",
   "metadata": {},
   "outputs": [],
   "source": [
    "df.order_id = df.order_id.astype(float)"
   ]
  },
  {
   "cell_type": "code",
   "execution_count": 42,
   "id": "5cff1e47-348e-4231-b3d9-41e5b3a98a33",
   "metadata": {},
   "outputs": [],
   "source": [
    "df.order_id = df.order_id.replace(0, np.nan)"
   ]
  },
  {
   "cell_type": "markdown",
   "id": "e3dfeec2-6a43-4b33-8c1a-ef94b1570726",
   "metadata": {},
   "source": [
    "How many missing order_id values?"
   ]
  },
  {
   "cell_type": "code",
   "execution_count": 43,
   "id": "857c5992-a6d7-43f1-8468-61a1c406cbc8",
   "metadata": {},
   "outputs": [
    {
     "data": {
      "text/plain": [
       "9891"
      ]
     },
     "execution_count": 43,
     "metadata": {},
     "output_type": "execute_result"
    }
   ],
   "source": [
    "df.order_id.isnull().sum()"
   ]
  },
  {
   "cell_type": "code",
   "execution_count": 44,
   "id": "3c3b7499-812f-4edb-8d63-73c811e0adb9",
   "metadata": {},
   "outputs": [
    {
     "data": {
      "text/html": [
       "<div>\n",
       "<style scoped>\n",
       "    .dataframe tbody tr th:only-of-type {\n",
       "        vertical-align: middle;\n",
       "    }\n",
       "\n",
       "    .dataframe tbody tr th {\n",
       "        vertical-align: top;\n",
       "    }\n",
       "\n",
       "    .dataframe thead th {\n",
       "        text-align: right;\n",
       "    }\n",
       "</style>\n",
       "<table border=\"1\" class=\"dataframe\">\n",
       "  <thead>\n",
       "    <tr style=\"text-align: right;\">\n",
       "      <th></th>\n",
       "      <th>order_id</th>\n",
       "      <th>product</th>\n",
       "      <th>quantity_ordered</th>\n",
       "      <th>price_each</th>\n",
       "      <th>order_date</th>\n",
       "      <th>purchase_address</th>\n",
       "      <th>month_name</th>\n",
       "      <th>city</th>\n",
       "      <th>state_code</th>\n",
       "      <th>state</th>\n",
       "    </tr>\n",
       "  </thead>\n",
       "  <tbody>\n",
       "    <tr>\n",
       "      <th>6479</th>\n",
       "      <td>NaN</td>\n",
       "      <td>Lightning Charging Cable</td>\n",
       "      <td>1</td>\n",
       "      <td>14.95</td>\n",
       "      <td>2019-02-15 04:06:00</td>\n",
       "      <td>260 6th St, San Francisco, CA 94016</td>\n",
       "      <td>February</td>\n",
       "      <td>San Francisco</td>\n",
       "      <td>CA</td>\n",
       "      <td>California</td>\n",
       "    </tr>\n",
       "    <tr>\n",
       "      <th>5568</th>\n",
       "      <td>NaN</td>\n",
       "      <td>iPhone</td>\n",
       "      <td>1</td>\n",
       "      <td>700.00</td>\n",
       "      <td>2019-03-02 08:29:00</td>\n",
       "      <td>251 Forest St, San Francisco, CA 94016</td>\n",
       "      <td>March</td>\n",
       "      <td>San Francisco</td>\n",
       "      <td>CA</td>\n",
       "      <td>California</td>\n",
       "    </tr>\n",
       "    <tr>\n",
       "      <th>2045</th>\n",
       "      <td>NaN</td>\n",
       "      <td>AA Batteries (4-pack)</td>\n",
       "      <td>1</td>\n",
       "      <td>3.84</td>\n",
       "      <td>2019-02-28 13:51:00</td>\n",
       "      <td>739 4th St, New York City, NY 10001</td>\n",
       "      <td>February</td>\n",
       "      <td>New York City</td>\n",
       "      <td>NY</td>\n",
       "      <td>New York</td>\n",
       "    </tr>\n",
       "    <tr>\n",
       "      <th>9267</th>\n",
       "      <td>NaN</td>\n",
       "      <td>Wired Headphones</td>\n",
       "      <td>1</td>\n",
       "      <td>11.99</td>\n",
       "      <td>2019-12-02 09:23:00</td>\n",
       "      <td>677 River St, Seattle, WA 98101</td>\n",
       "      <td>December</td>\n",
       "      <td>Seattle</td>\n",
       "      <td>WA</td>\n",
       "      <td>Washington</td>\n",
       "    </tr>\n",
       "    <tr>\n",
       "      <th>9293</th>\n",
       "      <td>NaN</td>\n",
       "      <td>Wired Headphones</td>\n",
       "      <td>1</td>\n",
       "      <td>11.99</td>\n",
       "      <td>2019-12-02 21:34:00</td>\n",
       "      <td>403 Sunset St, Austin, TX 73301</td>\n",
       "      <td>December</td>\n",
       "      <td>Austin</td>\n",
       "      <td>TX</td>\n",
       "      <td>Texas</td>\n",
       "    </tr>\n",
       "    <tr>\n",
       "      <th>6311</th>\n",
       "      <td>NaN</td>\n",
       "      <td>Lightning Charging Cable</td>\n",
       "      <td>1</td>\n",
       "      <td>14.95</td>\n",
       "      <td>2019-10-02 19:37:00</td>\n",
       "      <td>574 Maple St, Atlanta, GA 30301</td>\n",
       "      <td>October</td>\n",
       "      <td>Atlanta</td>\n",
       "      <td>GA</td>\n",
       "      <td>Georgia</td>\n",
       "    </tr>\n",
       "    <tr>\n",
       "      <th>4961</th>\n",
       "      <td>NaN</td>\n",
       "      <td>Flatscreen TV</td>\n",
       "      <td>1</td>\n",
       "      <td>300.00</td>\n",
       "      <td>2019-01-02 11:57:00</td>\n",
       "      <td>693 11th St, San Francisco, CA 94016</td>\n",
       "      <td>January</td>\n",
       "      <td>San Francisco</td>\n",
       "      <td>CA</td>\n",
       "      <td>California</td>\n",
       "    </tr>\n",
       "    <tr>\n",
       "      <th>1601</th>\n",
       "      <td>NaN</td>\n",
       "      <td>AA Batteries (4-pack)</td>\n",
       "      <td>1</td>\n",
       "      <td>3.84</td>\n",
       "      <td>2019-12-02 09:05:00</td>\n",
       "      <td>130 Hickory St, Portland, OR 97035</td>\n",
       "      <td>December</td>\n",
       "      <td>Portland</td>\n",
       "      <td>OR</td>\n",
       "      <td>Oregon</td>\n",
       "    </tr>\n",
       "    <tr>\n",
       "      <th>5196</th>\n",
       "      <td>NaN</td>\n",
       "      <td>Flatscreen TV</td>\n",
       "      <td>1</td>\n",
       "      <td>300.00</td>\n",
       "      <td>2019-02-27 10:44:00</td>\n",
       "      <td>651 Forest St, San Francisco, CA 94016</td>\n",
       "      <td>February</td>\n",
       "      <td>San Francisco</td>\n",
       "      <td>CA</td>\n",
       "      <td>California</td>\n",
       "    </tr>\n",
       "    <tr>\n",
       "      <th>8781</th>\n",
       "      <td>NaN</td>\n",
       "      <td>USB-C Charging Cable</td>\n",
       "      <td>2</td>\n",
       "      <td>11.95</td>\n",
       "      <td>2019-02-25 20:11:00</td>\n",
       "      <td>668 Maple St, Portland, OR 97035</td>\n",
       "      <td>February</td>\n",
       "      <td>Portland</td>\n",
       "      <td>OR</td>\n",
       "      <td>Oregon</td>\n",
       "    </tr>\n",
       "  </tbody>\n",
       "</table>\n",
       "</div>"
      ],
      "text/plain": [
       "      order_id                   product  quantity_ordered  price_each  \\\n",
       "6479       NaN  Lightning Charging Cable                 1       14.95   \n",
       "5568       NaN                    iPhone                 1      700.00   \n",
       "2045       NaN     AA Batteries (4-pack)                 1        3.84   \n",
       "9267       NaN          Wired Headphones                 1       11.99   \n",
       "9293       NaN          Wired Headphones                 1       11.99   \n",
       "6311       NaN  Lightning Charging Cable                 1       14.95   \n",
       "4961       NaN             Flatscreen TV                 1      300.00   \n",
       "1601       NaN     AA Batteries (4-pack)                 1        3.84   \n",
       "5196       NaN             Flatscreen TV                 1      300.00   \n",
       "8781       NaN      USB-C Charging Cable                 2       11.95   \n",
       "\n",
       "              order_date                        purchase_address month_name  \\\n",
       "6479 2019-02-15 04:06:00     260 6th St, San Francisco, CA 94016   February   \n",
       "5568 2019-03-02 08:29:00  251 Forest St, San Francisco, CA 94016      March   \n",
       "2045 2019-02-28 13:51:00     739 4th St, New York City, NY 10001   February   \n",
       "9267 2019-12-02 09:23:00         677 River St, Seattle, WA 98101   December   \n",
       "9293 2019-12-02 21:34:00         403 Sunset St, Austin, TX 73301   December   \n",
       "6311 2019-10-02 19:37:00         574 Maple St, Atlanta, GA 30301    October   \n",
       "4961 2019-01-02 11:57:00    693 11th St, San Francisco, CA 94016    January   \n",
       "1601 2019-12-02 09:05:00      130 Hickory St, Portland, OR 97035   December   \n",
       "5196 2019-02-27 10:44:00  651 Forest St, San Francisco, CA 94016   February   \n",
       "8781 2019-02-25 20:11:00        668 Maple St, Portland, OR 97035   February   \n",
       "\n",
       "               city state_code       state  \n",
       "6479  San Francisco         CA  California  \n",
       "5568  San Francisco         CA  California  \n",
       "2045  New York City         NY    New York  \n",
       "9267        Seattle         WA  Washington  \n",
       "9293         Austin         TX       Texas  \n",
       "6311        Atlanta         GA     Georgia  \n",
       "4961  San Francisco         CA  California  \n",
       "1601       Portland         OR      Oregon  \n",
       "5196  San Francisco         CA  California  \n",
       "8781       Portland         OR      Oregon  "
      ]
     },
     "execution_count": 44,
     "metadata": {},
     "output_type": "execute_result"
    }
   ],
   "source": [
    "df[df.order_id.isnull()].sample(10)"
   ]
  },
  {
   "cell_type": "code",
   "execution_count": 45,
   "id": "c7cbde16-9c28-471c-b82c-95719a70c277",
   "metadata": {},
   "outputs": [
    {
     "data": {
      "text/plain": [
       "order_id            9891\n",
       "product                0\n",
       "quantity_ordered       0\n",
       "price_each             0\n",
       "order_date             0\n",
       "purchase_address       0\n",
       "month_name             0\n",
       "city                   0\n",
       "state_code             0\n",
       "state                  0\n",
       "dtype: int64"
      ]
     },
     "execution_count": 45,
     "metadata": {},
     "output_type": "execute_result"
    }
   ],
   "source": [
    "df.isnull().sum()"
   ]
  },
  {
   "cell_type": "markdown",
   "id": "425af340-b058-44ff-b0c0-976420ffcf18",
   "metadata": {},
   "source": [
    "These records seem to have only missing values in the order_id column. Since `order_id` is not a crucial information, I can leave them as it is."
   ]
  },
  {
   "cell_type": "markdown",
   "id": "daef5d22-45e9-436d-9854-1ecf870ad21e",
   "metadata": {},
   "source": [
    "# Last check before exportation"
   ]
  },
  {
   "cell_type": "code",
   "execution_count": 46,
   "id": "04f4e076-4f08-4659-a478-bfaaff1840e7",
   "metadata": {},
   "outputs": [
    {
     "data": {
      "text/html": [
       "<div>\n",
       "<style scoped>\n",
       "    .dataframe tbody tr th:only-of-type {\n",
       "        vertical-align: middle;\n",
       "    }\n",
       "\n",
       "    .dataframe tbody tr th {\n",
       "        vertical-align: top;\n",
       "    }\n",
       "\n",
       "    .dataframe thead th {\n",
       "        text-align: right;\n",
       "    }\n",
       "</style>\n",
       "<table border=\"1\" class=\"dataframe\">\n",
       "  <thead>\n",
       "    <tr style=\"text-align: right;\">\n",
       "      <th></th>\n",
       "      <th>order_id</th>\n",
       "      <th>quantity_ordered</th>\n",
       "      <th>price_each</th>\n",
       "      <th>order_date</th>\n",
       "    </tr>\n",
       "  </thead>\n",
       "  <tbody>\n",
       "    <tr>\n",
       "      <th>count</th>\n",
       "      <td>175795.000000</td>\n",
       "      <td>185686.000000</td>\n",
       "      <td>185686.000000</td>\n",
       "      <td>185686</td>\n",
       "    </tr>\n",
       "    <tr>\n",
       "      <th>mean</th>\n",
       "      <td>233429.545351</td>\n",
       "      <td>1.124544</td>\n",
       "      <td>184.519255</td>\n",
       "      <td>2019-07-13 04:25:30.597783552</td>\n",
       "    </tr>\n",
       "    <tr>\n",
       "      <th>min</th>\n",
       "      <td>15502.000000</td>\n",
       "      <td>1.000000</td>\n",
       "      <td>2.990000</td>\n",
       "      <td>2019-01-01 03:07:00</td>\n",
       "    </tr>\n",
       "    <tr>\n",
       "      <th>25%</th>\n",
       "      <td>192955.500000</td>\n",
       "      <td>1.000000</td>\n",
       "      <td>11.950000</td>\n",
       "      <td>2019-04-13 13:55:15</td>\n",
       "    </tr>\n",
       "    <tr>\n",
       "      <th>50%</th>\n",
       "      <td>235131.000000</td>\n",
       "      <td>1.000000</td>\n",
       "      <td>14.950000</td>\n",
       "      <td>2019-07-12 08:03:30</td>\n",
       "    </tr>\n",
       "    <tr>\n",
       "      <th>75%</th>\n",
       "      <td>277405.500000</td>\n",
       "      <td>1.000000</td>\n",
       "      <td>150.000000</td>\n",
       "      <td>2019-10-19 17:24:15</td>\n",
       "    </tr>\n",
       "    <tr>\n",
       "      <th>max</th>\n",
       "      <td>319670.000000</td>\n",
       "      <td>9.000000</td>\n",
       "      <td>1700.000000</td>\n",
       "      <td>2020-01-01 05:13:00</td>\n",
       "    </tr>\n",
       "    <tr>\n",
       "      <th>std</th>\n",
       "      <td>53068.647610</td>\n",
       "      <td>0.443069</td>\n",
       "      <td>332.843838</td>\n",
       "      <td>NaN</td>\n",
       "    </tr>\n",
       "  </tbody>\n",
       "</table>\n",
       "</div>"
      ],
      "text/plain": [
       "            order_id  quantity_ordered     price_each  \\\n",
       "count  175795.000000     185686.000000  185686.000000   \n",
       "mean   233429.545351          1.124544     184.519255   \n",
       "min     15502.000000          1.000000       2.990000   \n",
       "25%    192955.500000          1.000000      11.950000   \n",
       "50%    235131.000000          1.000000      14.950000   \n",
       "75%    277405.500000          1.000000     150.000000   \n",
       "max    319670.000000          9.000000    1700.000000   \n",
       "std     53068.647610          0.443069     332.843838   \n",
       "\n",
       "                          order_date  \n",
       "count                         185686  \n",
       "mean   2019-07-13 04:25:30.597783552  \n",
       "min              2019-01-01 03:07:00  \n",
       "25%              2019-04-13 13:55:15  \n",
       "50%              2019-07-12 08:03:30  \n",
       "75%              2019-10-19 17:24:15  \n",
       "max              2020-01-01 05:13:00  \n",
       "std                              NaN  "
      ]
     },
     "execution_count": 46,
     "metadata": {},
     "output_type": "execute_result"
    }
   ],
   "source": [
    "df.describe()"
   ]
  },
  {
   "cell_type": "code",
   "execution_count": 47,
   "id": "3652f1d8-b554-4e7e-bbd8-9ddb47ce7caa",
   "metadata": {},
   "outputs": [
    {
     "data": {
      "text/html": [
       "<div>\n",
       "<style scoped>\n",
       "    .dataframe tbody tr th:only-of-type {\n",
       "        vertical-align: middle;\n",
       "    }\n",
       "\n",
       "    .dataframe tbody tr th {\n",
       "        vertical-align: top;\n",
       "    }\n",
       "\n",
       "    .dataframe thead th {\n",
       "        text-align: right;\n",
       "    }\n",
       "</style>\n",
       "<table border=\"1\" class=\"dataframe\">\n",
       "  <thead>\n",
       "    <tr style=\"text-align: right;\">\n",
       "      <th></th>\n",
       "      <th>order_id</th>\n",
       "      <th>product</th>\n",
       "      <th>quantity_ordered</th>\n",
       "      <th>price_each</th>\n",
       "      <th>order_date</th>\n",
       "      <th>purchase_address</th>\n",
       "      <th>month_name</th>\n",
       "      <th>city</th>\n",
       "      <th>state_code</th>\n",
       "      <th>state</th>\n",
       "    </tr>\n",
       "  </thead>\n",
       "  <tbody>\n",
       "    <tr>\n",
       "      <th>183977</th>\n",
       "      <td>318018.0</td>\n",
       "      <td>AA Batteries (4-pack)</td>\n",
       "      <td>2</td>\n",
       "      <td>3.840000</td>\n",
       "      <td>2019-12-14 14:28:00</td>\n",
       "      <td>157 Johnson St, Atlanta, GA 30301</td>\n",
       "      <td>December</td>\n",
       "      <td>Atlanta</td>\n",
       "      <td>GA</td>\n",
       "      <td>Georgia</td>\n",
       "    </tr>\n",
       "    <tr>\n",
       "      <th>57005</th>\n",
       "      <td>195962.0</td>\n",
       "      <td>20in Monitor</td>\n",
       "      <td>1</td>\n",
       "      <td>109.989998</td>\n",
       "      <td>2019-05-14 16:47:00</td>\n",
       "      <td>884 Spruce St, Seattle, WA 98101</td>\n",
       "      <td>May</td>\n",
       "      <td>Seattle</td>\n",
       "      <td>WA</td>\n",
       "      <td>Washington</td>\n",
       "    </tr>\n",
       "    <tr>\n",
       "      <th>48124</th>\n",
       "      <td>187464.0</td>\n",
       "      <td>iPhone</td>\n",
       "      <td>1</td>\n",
       "      <td>700.000000</td>\n",
       "      <td>2019-05-04 22:30:00</td>\n",
       "      <td>460 Center St, Austin, TX 73301</td>\n",
       "      <td>May</td>\n",
       "      <td>Austin</td>\n",
       "      <td>TX</td>\n",
       "      <td>Texas</td>\n",
       "    </tr>\n",
       "    <tr>\n",
       "      <th>144677</th>\n",
       "      <td>280231.0</td>\n",
       "      <td>Bose SoundSport Headphones</td>\n",
       "      <td>1</td>\n",
       "      <td>99.989998</td>\n",
       "      <td>2019-07-11 20:04:00</td>\n",
       "      <td>156 Lakeview St, San Francisco, CA 94016</td>\n",
       "      <td>July</td>\n",
       "      <td>San Francisco</td>\n",
       "      <td>CA</td>\n",
       "      <td>California</td>\n",
       "    </tr>\n",
       "    <tr>\n",
       "      <th>152639</th>\n",
       "      <td>287892.0</td>\n",
       "      <td>Flatscreen TV</td>\n",
       "      <td>1</td>\n",
       "      <td>300.000000</td>\n",
       "      <td>2019-10-11 15:52:00</td>\n",
       "      <td>517 Chestnut St, Seattle, WA 98101</td>\n",
       "      <td>October</td>\n",
       "      <td>Seattle</td>\n",
       "      <td>WA</td>\n",
       "      <td>Washington</td>\n",
       "    </tr>\n",
       "    <tr>\n",
       "      <th>171484</th>\n",
       "      <td>305982.0</td>\n",
       "      <td>Lightning Charging Cable</td>\n",
       "      <td>1</td>\n",
       "      <td>14.950000</td>\n",
       "      <td>2019-12-12 13:43:00</td>\n",
       "      <td>739 5th St, Austin, TX 73301</td>\n",
       "      <td>December</td>\n",
       "      <td>Austin</td>\n",
       "      <td>TX</td>\n",
       "      <td>Texas</td>\n",
       "    </tr>\n",
       "    <tr>\n",
       "      <th>91067</th>\n",
       "      <td>228647.0</td>\n",
       "      <td>Apple Airpods Headphones</td>\n",
       "      <td>1</td>\n",
       "      <td>150.000000</td>\n",
       "      <td>2019-07-14 11:35:00</td>\n",
       "      <td>572 13th St, Los Angeles, CA 90001</td>\n",
       "      <td>July</td>\n",
       "      <td>Los Angeles</td>\n",
       "      <td>CA</td>\n",
       "      <td>California</td>\n",
       "    </tr>\n",
       "    <tr>\n",
       "      <th>133209</th>\n",
       "      <td>269226.0</td>\n",
       "      <td>AA Batteries (4-pack)</td>\n",
       "      <td>1</td>\n",
       "      <td>3.840000</td>\n",
       "      <td>2019-12-10 02:01:00</td>\n",
       "      <td>173 13th St, Portland, OR 97035</td>\n",
       "      <td>December</td>\n",
       "      <td>Portland</td>\n",
       "      <td>OR</td>\n",
       "      <td>Oregon</td>\n",
       "    </tr>\n",
       "    <tr>\n",
       "      <th>29338</th>\n",
       "      <td>169407.0</td>\n",
       "      <td>27in FHD Monitor</td>\n",
       "      <td>1</td>\n",
       "      <td>149.990005</td>\n",
       "      <td>2019-09-03 19:37:00</td>\n",
       "      <td>210 Washington St, Boston, MA 02215</td>\n",
       "      <td>September</td>\n",
       "      <td>Boston</td>\n",
       "      <td>MA</td>\n",
       "      <td>Massachusetts</td>\n",
       "    </tr>\n",
       "    <tr>\n",
       "      <th>28847</th>\n",
       "      <td>168933.0</td>\n",
       "      <td>Apple Airpods Headphones</td>\n",
       "      <td>1</td>\n",
       "      <td>150.000000</td>\n",
       "      <td>2019-03-24 12:11:00</td>\n",
       "      <td>67 Church St, New York City, NY 10001</td>\n",
       "      <td>March</td>\n",
       "      <td>New York City</td>\n",
       "      <td>NY</td>\n",
       "      <td>New York</td>\n",
       "    </tr>\n",
       "    <tr>\n",
       "      <th>114226</th>\n",
       "      <td>250943.0</td>\n",
       "      <td>Lightning Charging Cable</td>\n",
       "      <td>2</td>\n",
       "      <td>14.950000</td>\n",
       "      <td>2019-11-09 18:19:00</td>\n",
       "      <td>686 12th St, Boston, MA 02215</td>\n",
       "      <td>November</td>\n",
       "      <td>Boston</td>\n",
       "      <td>MA</td>\n",
       "      <td>Massachusetts</td>\n",
       "    </tr>\n",
       "    <tr>\n",
       "      <th>10146</th>\n",
       "      <td>15744.0</td>\n",
       "      <td>34in Ultrawide Monitor</td>\n",
       "      <td>1</td>\n",
       "      <td>379.989990</td>\n",
       "      <td>2019-07-02 13:45:00</td>\n",
       "      <td>682 5th St, Atlanta, GA 30301</td>\n",
       "      <td>July</td>\n",
       "      <td>Atlanta</td>\n",
       "      <td>GA</td>\n",
       "      <td>Georgia</td>\n",
       "    </tr>\n",
       "    <tr>\n",
       "      <th>101112</th>\n",
       "      <td>238335.0</td>\n",
       "      <td>Wired Headphones</td>\n",
       "      <td>1</td>\n",
       "      <td>11.990000</td>\n",
       "      <td>2019-08-13 10:14:00</td>\n",
       "      <td>1 Main St, San Francisco, CA 94016</td>\n",
       "      <td>August</td>\n",
       "      <td>San Francisco</td>\n",
       "      <td>CA</td>\n",
       "      <td>California</td>\n",
       "    </tr>\n",
       "    <tr>\n",
       "      <th>133202</th>\n",
       "      <td>269219.0</td>\n",
       "      <td>Bose SoundSport Headphones</td>\n",
       "      <td>1</td>\n",
       "      <td>99.989998</td>\n",
       "      <td>2019-10-27 09:24:00</td>\n",
       "      <td>436 10th St, Portland, OR 97035</td>\n",
       "      <td>October</td>\n",
       "      <td>Portland</td>\n",
       "      <td>OR</td>\n",
       "      <td>Oregon</td>\n",
       "    </tr>\n",
       "    <tr>\n",
       "      <th>72390</th>\n",
       "      <td>210702.0</td>\n",
       "      <td>20in Monitor</td>\n",
       "      <td>1</td>\n",
       "      <td>109.989998</td>\n",
       "      <td>2019-06-18 20:14:00</td>\n",
       "      <td>46 Washington St, San Francisco, CA 94016</td>\n",
       "      <td>June</td>\n",
       "      <td>San Francisco</td>\n",
       "      <td>CA</td>\n",
       "      <td>California</td>\n",
       "    </tr>\n",
       "  </tbody>\n",
       "</table>\n",
       "</div>"
      ],
      "text/plain": [
       "        order_id                     product  quantity_ordered  price_each  \\\n",
       "183977  318018.0       AA Batteries (4-pack)                 2    3.840000   \n",
       "57005   195962.0                20in Monitor                 1  109.989998   \n",
       "48124   187464.0                      iPhone                 1  700.000000   \n",
       "144677  280231.0  Bose SoundSport Headphones                 1   99.989998   \n",
       "152639  287892.0               Flatscreen TV                 1  300.000000   \n",
       "171484  305982.0    Lightning Charging Cable                 1   14.950000   \n",
       "91067   228647.0    Apple Airpods Headphones                 1  150.000000   \n",
       "133209  269226.0       AA Batteries (4-pack)                 1    3.840000   \n",
       "29338   169407.0            27in FHD Monitor                 1  149.990005   \n",
       "28847   168933.0    Apple Airpods Headphones                 1  150.000000   \n",
       "114226  250943.0    Lightning Charging Cable                 2   14.950000   \n",
       "10146    15744.0      34in Ultrawide Monitor                 1  379.989990   \n",
       "101112  238335.0            Wired Headphones                 1   11.990000   \n",
       "133202  269219.0  Bose SoundSport Headphones                 1   99.989998   \n",
       "72390   210702.0                20in Monitor                 1  109.989998   \n",
       "\n",
       "                order_date                           purchase_address  \\\n",
       "183977 2019-12-14 14:28:00          157 Johnson St, Atlanta, GA 30301   \n",
       "57005  2019-05-14 16:47:00           884 Spruce St, Seattle, WA 98101   \n",
       "48124  2019-05-04 22:30:00            460 Center St, Austin, TX 73301   \n",
       "144677 2019-07-11 20:04:00   156 Lakeview St, San Francisco, CA 94016   \n",
       "152639 2019-10-11 15:52:00         517 Chestnut St, Seattle, WA 98101   \n",
       "171484 2019-12-12 13:43:00               739 5th St, Austin, TX 73301   \n",
       "91067  2019-07-14 11:35:00         572 13th St, Los Angeles, CA 90001   \n",
       "133209 2019-12-10 02:01:00            173 13th St, Portland, OR 97035   \n",
       "29338  2019-09-03 19:37:00        210 Washington St, Boston, MA 02215   \n",
       "28847  2019-03-24 12:11:00      67 Church St, New York City, NY 10001   \n",
       "114226 2019-11-09 18:19:00              686 12th St, Boston, MA 02215   \n",
       "10146  2019-07-02 13:45:00              682 5th St, Atlanta, GA 30301   \n",
       "101112 2019-08-13 10:14:00         1 Main St, San Francisco, CA 94016   \n",
       "133202 2019-10-27 09:24:00            436 10th St, Portland, OR 97035   \n",
       "72390  2019-06-18 20:14:00  46 Washington St, San Francisco, CA 94016   \n",
       "\n",
       "       month_name           city state_code          state  \n",
       "183977   December        Atlanta         GA        Georgia  \n",
       "57005         May        Seattle         WA     Washington  \n",
       "48124         May         Austin         TX          Texas  \n",
       "144677       July  San Francisco         CA     California  \n",
       "152639    October        Seattle         WA     Washington  \n",
       "171484   December         Austin         TX          Texas  \n",
       "91067        July    Los Angeles         CA     California  \n",
       "133209   December       Portland         OR         Oregon  \n",
       "29338   September         Boston         MA  Massachusetts  \n",
       "28847       March  New York City         NY       New York  \n",
       "114226   November         Boston         MA  Massachusetts  \n",
       "10146        July        Atlanta         GA        Georgia  \n",
       "101112     August  San Francisco         CA     California  \n",
       "133202    October       Portland         OR         Oregon  \n",
       "72390        June  San Francisco         CA     California  "
      ]
     },
     "execution_count": 47,
     "metadata": {},
     "output_type": "execute_result"
    }
   ],
   "source": [
    "df.sample(15)"
   ]
  },
  {
   "cell_type": "markdown",
   "id": "0d663736-4c26-46b8-a240-30775ee7429b",
   "metadata": {},
   "source": [
    "# Export the dataset to a csv file"
   ]
  },
  {
   "cell_type": "code",
   "execution_count": 48,
   "id": "490a172c-faee-4550-b377-11a9b64ed962",
   "metadata": {},
   "outputs": [],
   "source": [
    "df = df.sort_values('order_id')\n",
    "df.to_csv('clean_dataset.csv', index=False)"
   ]
  }
 ],
 "metadata": {
  "kernelspec": {
   "display_name": "Python 3 (ipykernel)",
   "language": "python",
   "name": "python3"
  },
  "language_info": {
   "codemirror_mode": {
    "name": "ipython",
    "version": 3
   },
   "file_extension": ".py",
   "mimetype": "text/x-python",
   "name": "python",
   "nbconvert_exporter": "python",
   "pygments_lexer": "ipython3",
   "version": "3.12.0"
  }
 },
 "nbformat": 4,
 "nbformat_minor": 5
}
